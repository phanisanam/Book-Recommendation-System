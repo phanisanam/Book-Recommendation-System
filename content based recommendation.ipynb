{
 "cells": [
  {
   "cell_type": "code",
   "execution_count": 38,
   "id": "43e8e2ae",
   "metadata": {},
   "outputs": [],
   "source": [
    "from sklearn.feature_extraction.text import CountVectorizer\n",
    "from sklearn.metrics.pairwise import cosine_similarity\n",
    "from rake_nltk import Rake\n",
    "import pandas as pd\n",
    "import numpy as np\n",
    "import nltk\n",
    "import pandasql as ps\n",
    "import warnings\n",
    "warnings.simplefilter(action='ignore', category=FutureWarning)"
   ]
  },
  {
   "cell_type": "code",
   "execution_count": 2,
   "id": "50ad6fc7",
   "metadata": {},
   "outputs": [],
   "source": [
    "bookdata=pd.read_csv('Cleaned datasets/BOOKMASTER.csv')"
   ]
  },
  {
   "cell_type": "code",
   "execution_count": 3,
   "id": "3ee4e19b",
   "metadata": {},
   "outputs": [
    {
     "data": {
      "text/html": [
       "<div>\n",
       "<style scoped>\n",
       "    .dataframe tbody tr th:only-of-type {\n",
       "        vertical-align: middle;\n",
       "    }\n",
       "\n",
       "    .dataframe tbody tr th {\n",
       "        vertical-align: top;\n",
       "    }\n",
       "\n",
       "    .dataframe thead th {\n",
       "        text-align: right;\n",
       "    }\n",
       "</style>\n",
       "<table border=\"1\" class=\"dataframe\">\n",
       "  <thead>\n",
       "    <tr style=\"text-align: right;\">\n",
       "      <th></th>\n",
       "      <th>BookID</th>\n",
       "      <th>GENRE</th>\n",
       "      <th>AUTHORDESC</th>\n",
       "      <th>AUTHOR</th>\n",
       "      <th>BOOKTITLE</th>\n",
       "      <th>USERRATINGS</th>\n",
       "      <th>Popularity</th>\n",
       "      <th>PAGES</th>\n",
       "      <th>published_year</th>\n",
       "      <th>SUMMARY</th>\n",
       "    </tr>\n",
       "  </thead>\n",
       "  <tbody>\n",
       "    <tr>\n",
       "      <th>0</th>\n",
       "      <td>114530</td>\n",
       "      <td>Fiction</td>\n",
       "      <td>Mark Haddon is a British novelist and poet, be...</td>\n",
       "      <td>Mark Haddon</td>\n",
       "      <td>The Curious Incident of the Dog in the Night-T...</td>\n",
       "      <td>3.87</td>\n",
       "      <td>15417.968520</td>\n",
       "      <td>226</td>\n",
       "      <td>2004</td>\n",
       "      <td>Christopher John Francis Boone knows all the c...</td>\n",
       "    </tr>\n",
       "    <tr>\n",
       "      <th>1</th>\n",
       "      <td>133131</td>\n",
       "      <td>Science Fiction</td>\n",
       "      <td>Vernor Steffen Vinge is a retired San Diego St...</td>\n",
       "      <td>Vernor Vinge</td>\n",
       "      <td>Rainbows End by Vernor Vinge</td>\n",
       "      <td>3.76</td>\n",
       "      <td>218.146718</td>\n",
       "      <td>381</td>\n",
       "      <td>2007</td>\n",
       "      <td>Robert Gu is a recovering Alzheimer's patient....</td>\n",
       "    </tr>\n",
       "    <tr>\n",
       "      <th>2</th>\n",
       "      <td>153927</td>\n",
       "      <td>Nonfiction</td>\n",
       "      <td>ROBERT B. BAER is one of the most accomplished...</td>\n",
       "      <td>Robert B. Baer</td>\n",
       "      <td>See No Evil: The True Story of a Ground Soldie...</td>\n",
       "      <td>3.93</td>\n",
       "      <td>64.196614</td>\n",
       "      <td>320</td>\n",
       "      <td>2003</td>\n",
       "      <td>In his explosive New York Times bestseller, to...</td>\n",
       "    </tr>\n",
       "    <tr>\n",
       "      <th>3</th>\n",
       "      <td>160262</td>\n",
       "      <td>History</td>\n",
       "      <td>Anthony Everitt is a British academic. He stud...</td>\n",
       "      <td>Anthony Everitt</td>\n",
       "      <td>Augustus: The Life of Rome's First Emperor by ...</td>\n",
       "      <td>4.03</td>\n",
       "      <td>77.324027</td>\n",
       "      <td>327</td>\n",
       "      <td>2006</td>\n",
       "      <td>He found Rome made of clay and left it made of...</td>\n",
       "    </tr>\n",
       "    <tr>\n",
       "      <th>4</th>\n",
       "      <td>133451</td>\n",
       "      <td>Mystery</td>\n",
       "      <td>P.J. Parrish is the New York Times bestselling...</td>\n",
       "      <td>P.J. Parrish</td>\n",
       "      <td>An Unquiet Grave (Louis Kincaid, #7) by P.J. P...</td>\n",
       "      <td>4.12</td>\n",
       "      <td>10.454410</td>\n",
       "      <td>384</td>\n",
       "      <td>2006</td>\n",
       "      <td>Not Every Soul Rest in PeaceIn a remote corner...</td>\n",
       "    </tr>\n",
       "  </tbody>\n",
       "</table>\n",
       "</div>"
      ],
      "text/plain": [
       "   BookID            GENRE                                         AUTHORDESC  \\\n",
       "0  114530          Fiction  Mark Haddon is a British novelist and poet, be...   \n",
       "1  133131  Science Fiction  Vernor Steffen Vinge is a retired San Diego St...   \n",
       "2  153927       Nonfiction  ROBERT B. BAER is one of the most accomplished...   \n",
       "3  160262          History  Anthony Everitt is a British academic. He stud...   \n",
       "4  133451          Mystery  P.J. Parrish is the New York Times bestselling...   \n",
       "\n",
       "            AUTHOR                                          BOOKTITLE  \\\n",
       "0      Mark Haddon  The Curious Incident of the Dog in the Night-T...   \n",
       "1     Vernor Vinge                       Rainbows End by Vernor Vinge   \n",
       "2   Robert B. Baer  See No Evil: The True Story of a Ground Soldie...   \n",
       "3  Anthony Everitt  Augustus: The Life of Rome's First Emperor by ...   \n",
       "4     P.J. Parrish  An Unquiet Grave (Louis Kincaid, #7) by P.J. P...   \n",
       "\n",
       "   USERRATINGS    Popularity  PAGES  published_year  \\\n",
       "0         3.87  15417.968520    226            2004   \n",
       "1         3.76    218.146718    381            2007   \n",
       "2         3.93     64.196614    320            2003   \n",
       "3         4.03     77.324027    327            2006   \n",
       "4         4.12     10.454410    384            2006   \n",
       "\n",
       "                                             SUMMARY  \n",
       "0  Christopher John Francis Boone knows all the c...  \n",
       "1  Robert Gu is a recovering Alzheimer's patient....  \n",
       "2  In his explosive New York Times bestseller, to...  \n",
       "3  He found Rome made of clay and left it made of...  \n",
       "4  Not Every Soul Rest in PeaceIn a remote corner...  "
      ]
     },
     "execution_count": 3,
     "metadata": {},
     "output_type": "execute_result"
    }
   ],
   "source": [
    "bookdata.head()"
   ]
  },
  {
   "cell_type": "code",
   "execution_count": 4,
   "id": "6be0a0d3",
   "metadata": {},
   "outputs": [
    {
     "data": {
      "text/plain": [
       "2329"
      ]
     },
     "execution_count": 4,
     "metadata": {},
     "output_type": "execute_result"
    }
   ],
   "source": [
    "len(bookdata)"
   ]
  },
  {
   "cell_type": "code",
   "execution_count": 5,
   "id": "b806c5a9",
   "metadata": {},
   "outputs": [
    {
     "data": {
      "text/plain": [
       "Index(['BookID', 'GENRE', 'AUTHORDESC', 'AUTHOR', 'BOOKTITLE', 'USERRATINGS',\n",
       "       'Popularity', 'PAGES', 'published_year', 'SUMMARY'],\n",
       "      dtype='object')"
      ]
     },
     "execution_count": 5,
     "metadata": {},
     "output_type": "execute_result"
    }
   ],
   "source": [
    "bookdata.columns"
   ]
  },
  {
   "cell_type": "markdown",
   "id": "694eedbd",
   "metadata": {},
   "source": [
    "**Create a keywords class to add all the keywords related to a book as a feature**"
   ]
  },
  {
   "cell_type": "code",
   "execution_count": 6,
   "id": "505eee15",
   "metadata": {},
   "outputs": [],
   "source": [
    "bookdata['keywords']=''"
   ]
  },
  {
   "cell_type": "code",
   "execution_count": 7,
   "id": "ccb72edf",
   "metadata": {},
   "outputs": [],
   "source": [
    "for index,record in bookdata.iterrows():\n",
    "    rake=Rake()\n",
    "    summary=record['SUMMARY']\n",
    "    rake.extract_keywords_from_text(summary)\n",
    "    keyword_count=rake.get_ranked_phrases()\n",
    "    bookdata.at[index,'keywords']=list(keyword_count)"
   ]
  },
  {
   "cell_type": "code",
   "execution_count": 8,
   "id": "1e1d8214",
   "metadata": {},
   "outputs": [
    {
     "data": {
      "text/plain": [
       "0    [christopher john francis boone knows, old chr...\n",
       "1    [digital contextthrough smart contact lenses, ...\n",
       "2    [top cia operative robert baer paints, nationa...\n",
       "3    [roman power two thousand years ago laid, two ...\n",
       "4    [behind rusted iron gates, much louis kincaid ...\n",
       "Name: keywords, dtype: object"
      ]
     },
     "execution_count": 8,
     "metadata": {},
     "output_type": "execute_result"
    }
   ],
   "source": [
    "bookdata['keywords'].head()"
   ]
  },
  {
   "cell_type": "markdown",
   "id": "4b8ebe6a",
   "metadata": {},
   "source": [
    "So now we can drop the summary column"
   ]
  },
  {
   "cell_type": "code",
   "execution_count": 9,
   "id": "a0b52367",
   "metadata": {},
   "outputs": [],
   "source": [
    "bookdata.drop('SUMMARY',inplace=True,axis=1)"
   ]
  },
  {
   "cell_type": "code",
   "execution_count": 10,
   "id": "bafe9796",
   "metadata": {},
   "outputs": [
    {
     "data": {
      "text/html": [
       "<div>\n",
       "<style scoped>\n",
       "    .dataframe tbody tr th:only-of-type {\n",
       "        vertical-align: middle;\n",
       "    }\n",
       "\n",
       "    .dataframe tbody tr th {\n",
       "        vertical-align: top;\n",
       "    }\n",
       "\n",
       "    .dataframe thead th {\n",
       "        text-align: right;\n",
       "    }\n",
       "</style>\n",
       "<table border=\"1\" class=\"dataframe\">\n",
       "  <thead>\n",
       "    <tr style=\"text-align: right;\">\n",
       "      <th></th>\n",
       "      <th>BookID</th>\n",
       "      <th>GENRE</th>\n",
       "      <th>AUTHORDESC</th>\n",
       "      <th>AUTHOR</th>\n",
       "      <th>BOOKTITLE</th>\n",
       "      <th>USERRATINGS</th>\n",
       "      <th>Popularity</th>\n",
       "      <th>PAGES</th>\n",
       "      <th>published_year</th>\n",
       "      <th>keywords</th>\n",
       "    </tr>\n",
       "  </thead>\n",
       "  <tbody>\n",
       "    <tr>\n",
       "      <th>0</th>\n",
       "      <td>114530</td>\n",
       "      <td>Fiction</td>\n",
       "      <td>Mark Haddon is a British novelist and poet, be...</td>\n",
       "      <td>Mark Haddon</td>\n",
       "      <td>The Curious Incident of the Dog in the Night-T...</td>\n",
       "      <td>3.87</td>\n",
       "      <td>15417.968520</td>\n",
       "      <td>226</td>\n",
       "      <td>2004</td>\n",
       "      <td>[christopher john francis boone knows, old chr...</td>\n",
       "    </tr>\n",
       "    <tr>\n",
       "      <th>1</th>\n",
       "      <td>133131</td>\n",
       "      <td>Science Fiction</td>\n",
       "      <td>Vernor Steffen Vinge is a retired San Diego St...</td>\n",
       "      <td>Vernor Vinge</td>\n",
       "      <td>Rainbows End by Vernor Vinge</td>\n",
       "      <td>3.76</td>\n",
       "      <td>218.146718</td>\n",
       "      <td>381</td>\n",
       "      <td>2007</td>\n",
       "      <td>[digital contextthrough smart contact lenses, ...</td>\n",
       "    </tr>\n",
       "    <tr>\n",
       "      <th>2</th>\n",
       "      <td>153927</td>\n",
       "      <td>Nonfiction</td>\n",
       "      <td>ROBERT B. BAER is one of the most accomplished...</td>\n",
       "      <td>Robert B. Baer</td>\n",
       "      <td>See No Evil: The True Story of a Ground Soldie...</td>\n",
       "      <td>3.93</td>\n",
       "      <td>64.196614</td>\n",
       "      <td>320</td>\n",
       "      <td>2003</td>\n",
       "      <td>[top cia operative robert baer paints, nationa...</td>\n",
       "    </tr>\n",
       "    <tr>\n",
       "      <th>3</th>\n",
       "      <td>160262</td>\n",
       "      <td>History</td>\n",
       "      <td>Anthony Everitt is a British academic. He stud...</td>\n",
       "      <td>Anthony Everitt</td>\n",
       "      <td>Augustus: The Life of Rome's First Emperor by ...</td>\n",
       "      <td>4.03</td>\n",
       "      <td>77.324027</td>\n",
       "      <td>327</td>\n",
       "      <td>2006</td>\n",
       "      <td>[roman power two thousand years ago laid, two ...</td>\n",
       "    </tr>\n",
       "    <tr>\n",
       "      <th>4</th>\n",
       "      <td>133451</td>\n",
       "      <td>Mystery</td>\n",
       "      <td>P.J. Parrish is the New York Times bestselling...</td>\n",
       "      <td>P.J. Parrish</td>\n",
       "      <td>An Unquiet Grave (Louis Kincaid, #7) by P.J. P...</td>\n",
       "      <td>4.12</td>\n",
       "      <td>10.454410</td>\n",
       "      <td>384</td>\n",
       "      <td>2006</td>\n",
       "      <td>[behind rusted iron gates, much louis kincaid ...</td>\n",
       "    </tr>\n",
       "  </tbody>\n",
       "</table>\n",
       "</div>"
      ],
      "text/plain": [
       "   BookID            GENRE                                         AUTHORDESC  \\\n",
       "0  114530          Fiction  Mark Haddon is a British novelist and poet, be...   \n",
       "1  133131  Science Fiction  Vernor Steffen Vinge is a retired San Diego St...   \n",
       "2  153927       Nonfiction  ROBERT B. BAER is one of the most accomplished...   \n",
       "3  160262          History  Anthony Everitt is a British academic. He stud...   \n",
       "4  133451          Mystery  P.J. Parrish is the New York Times bestselling...   \n",
       "\n",
       "            AUTHOR                                          BOOKTITLE  \\\n",
       "0      Mark Haddon  The Curious Incident of the Dog in the Night-T...   \n",
       "1     Vernor Vinge                       Rainbows End by Vernor Vinge   \n",
       "2   Robert B. Baer  See No Evil: The True Story of a Ground Soldie...   \n",
       "3  Anthony Everitt  Augustus: The Life of Rome's First Emperor by ...   \n",
       "4     P.J. Parrish  An Unquiet Grave (Louis Kincaid, #7) by P.J. P...   \n",
       "\n",
       "   USERRATINGS    Popularity  PAGES  published_year  \\\n",
       "0         3.87  15417.968520    226            2004   \n",
       "1         3.76    218.146718    381            2007   \n",
       "2         3.93     64.196614    320            2003   \n",
       "3         4.03     77.324027    327            2006   \n",
       "4         4.12     10.454410    384            2006   \n",
       "\n",
       "                                            keywords  \n",
       "0  [christopher john francis boone knows, old chr...  \n",
       "1  [digital contextthrough smart contact lenses, ...  \n",
       "2  [top cia operative robert baer paints, nationa...  \n",
       "3  [roman power two thousand years ago laid, two ...  \n",
       "4  [behind rusted iron gates, much louis kincaid ...  "
      ]
     },
     "execution_count": 10,
     "metadata": {},
     "output_type": "execute_result"
    }
   ],
   "source": [
    "bookdata.head()"
   ]
  },
  {
   "cell_type": "code",
   "execution_count": 11,
   "id": "513eb4b9",
   "metadata": {},
   "outputs": [
    {
     "data": {
      "text/plain": [
       "Index(['BookID', 'GENRE', 'AUTHORDESC', 'AUTHOR', 'BOOKTITLE', 'USERRATINGS',\n",
       "       'Popularity', 'PAGES', 'published_year', 'keywords'],\n",
       "      dtype='object')"
      ]
     },
     "execution_count": 11,
     "metadata": {},
     "output_type": "execute_result"
    }
   ],
   "source": [
    "bookdata.columns"
   ]
  },
  {
   "cell_type": "code",
   "execution_count": 12,
   "id": "e9bcc5c5",
   "metadata": {},
   "outputs": [],
   "source": [
    "cols=['BookID', 'GENRE', 'BOOKTITLE','AUTHOR','published_year','PAGES','keywords']"
   ]
  },
  {
   "cell_type": "code",
   "execution_count": 13,
   "id": "924ae1c7",
   "metadata": {},
   "outputs": [],
   "source": [
    "bookdata=bookdata[cols]"
   ]
  },
  {
   "cell_type": "code",
   "execution_count": 14,
   "id": "6dd5ffe2",
   "metadata": {},
   "outputs": [
    {
     "data": {
      "text/html": [
       "<div>\n",
       "<style scoped>\n",
       "    .dataframe tbody tr th:only-of-type {\n",
       "        vertical-align: middle;\n",
       "    }\n",
       "\n",
       "    .dataframe tbody tr th {\n",
       "        vertical-align: top;\n",
       "    }\n",
       "\n",
       "    .dataframe thead th {\n",
       "        text-align: right;\n",
       "    }\n",
       "</style>\n",
       "<table border=\"1\" class=\"dataframe\">\n",
       "  <thead>\n",
       "    <tr style=\"text-align: right;\">\n",
       "      <th></th>\n",
       "      <th>BookID</th>\n",
       "      <th>GENRE</th>\n",
       "      <th>BOOKTITLE</th>\n",
       "      <th>AUTHOR</th>\n",
       "      <th>published_year</th>\n",
       "      <th>PAGES</th>\n",
       "      <th>keywords</th>\n",
       "    </tr>\n",
       "  </thead>\n",
       "  <tbody>\n",
       "    <tr>\n",
       "      <th>0</th>\n",
       "      <td>114530</td>\n",
       "      <td>Fiction</td>\n",
       "      <td>The Curious Incident of the Dog in the Night-T...</td>\n",
       "      <td>Mark Haddon</td>\n",
       "      <td>2004</td>\n",
       "      <td>226</td>\n",
       "      <td>[christopher john francis boone knows, old chr...</td>\n",
       "    </tr>\n",
       "    <tr>\n",
       "      <th>1</th>\n",
       "      <td>133131</td>\n",
       "      <td>Science Fiction</td>\n",
       "      <td>Rainbows End by Vernor Vinge</td>\n",
       "      <td>Vernor Vinge</td>\n",
       "      <td>2007</td>\n",
       "      <td>381</td>\n",
       "      <td>[digital contextthrough smart contact lenses, ...</td>\n",
       "    </tr>\n",
       "    <tr>\n",
       "      <th>2</th>\n",
       "      <td>153927</td>\n",
       "      <td>Nonfiction</td>\n",
       "      <td>See No Evil: The True Story of a Ground Soldie...</td>\n",
       "      <td>Robert B. Baer</td>\n",
       "      <td>2003</td>\n",
       "      <td>320</td>\n",
       "      <td>[top cia operative robert baer paints, nationa...</td>\n",
       "    </tr>\n",
       "    <tr>\n",
       "      <th>3</th>\n",
       "      <td>160262</td>\n",
       "      <td>History</td>\n",
       "      <td>Augustus: The Life of Rome's First Emperor by ...</td>\n",
       "      <td>Anthony Everitt</td>\n",
       "      <td>2006</td>\n",
       "      <td>327</td>\n",
       "      <td>[roman power two thousand years ago laid, two ...</td>\n",
       "    </tr>\n",
       "    <tr>\n",
       "      <th>4</th>\n",
       "      <td>133451</td>\n",
       "      <td>Mystery</td>\n",
       "      <td>An Unquiet Grave (Louis Kincaid, #7) by P.J. P...</td>\n",
       "      <td>P.J. Parrish</td>\n",
       "      <td>2006</td>\n",
       "      <td>384</td>\n",
       "      <td>[behind rusted iron gates, much louis kincaid ...</td>\n",
       "    </tr>\n",
       "  </tbody>\n",
       "</table>\n",
       "</div>"
      ],
      "text/plain": [
       "   BookID            GENRE                                          BOOKTITLE  \\\n",
       "0  114530          Fiction  The Curious Incident of the Dog in the Night-T...   \n",
       "1  133131  Science Fiction                       Rainbows End by Vernor Vinge   \n",
       "2  153927       Nonfiction  See No Evil: The True Story of a Ground Soldie...   \n",
       "3  160262          History  Augustus: The Life of Rome's First Emperor by ...   \n",
       "4  133451          Mystery  An Unquiet Grave (Louis Kincaid, #7) by P.J. P...   \n",
       "\n",
       "            AUTHOR  published_year  PAGES  \\\n",
       "0      Mark Haddon            2004    226   \n",
       "1     Vernor Vinge            2007    381   \n",
       "2   Robert B. Baer            2003    320   \n",
       "3  Anthony Everitt            2006    327   \n",
       "4     P.J. Parrish            2006    384   \n",
       "\n",
       "                                            keywords  \n",
       "0  [christopher john francis boone knows, old chr...  \n",
       "1  [digital contextthrough smart contact lenses, ...  \n",
       "2  [top cia operative robert baer paints, nationa...  \n",
       "3  [roman power two thousand years ago laid, two ...  \n",
       "4  [behind rusted iron gates, much louis kincaid ...  "
      ]
     },
     "execution_count": 14,
     "metadata": {},
     "output_type": "execute_result"
    }
   ],
   "source": [
    "bookdata.head()"
   ]
  },
  {
   "cell_type": "code",
   "execution_count": 15,
   "id": "b4bfec81",
   "metadata": {},
   "outputs": [],
   "source": [
    "b=bookdata.copy()"
   ]
  },
  {
   "cell_type": "code",
   "execution_count": 16,
   "id": "9631b6c5",
   "metadata": {},
   "outputs": [
    {
     "data": {
      "text/plain": [
       "BookID             int64\n",
       "GENRE             object\n",
       "BOOKTITLE         object\n",
       "AUTHOR            object\n",
       "published_year     int64\n",
       "PAGES              int64\n",
       "keywords          object\n",
       "dtype: object"
      ]
     },
     "execution_count": 16,
     "metadata": {},
     "output_type": "execute_result"
    }
   ],
   "source": [
    "bookdata.dtypes"
   ]
  },
  {
   "cell_type": "code",
   "execution_count": 17,
   "id": "cacbe767",
   "metadata": {},
   "outputs": [],
   "source": [
    "bookdata['published_year'] = bookdata['published_year'].astype(str)\n",
    "bookdata['PAGES'] = bookdata['PAGES'].astype(str)"
   ]
  },
  {
   "cell_type": "code",
   "execution_count": 18,
   "id": "39fa4d3e",
   "metadata": {},
   "outputs": [],
   "source": [
    "bookdata['word_dictionary']=''"
   ]
  },
  {
   "cell_type": "markdown",
   "id": "15977a3c",
   "metadata": {},
   "source": [
    "Add data of every column to the final word dictionary column"
   ]
  },
  {
   "cell_type": "code",
   "execution_count": 19,
   "id": "ae659d0b",
   "metadata": {},
   "outputs": [
    {
     "data": {
      "text/plain": [
       "BookID              int64\n",
       "GENRE              object\n",
       "BOOKTITLE          object\n",
       "AUTHOR             object\n",
       "published_year     object\n",
       "PAGES              object\n",
       "keywords           object\n",
       "word_dictionary    object\n",
       "dtype: object"
      ]
     },
     "execution_count": 19,
     "metadata": {},
     "output_type": "execute_result"
    }
   ],
   "source": [
    "bookdata.dtypes"
   ]
  },
  {
   "cell_type": "code",
   "execution_count": 20,
   "id": "aa0d0359",
   "metadata": {},
   "outputs": [],
   "source": [
    "bookdata= bookdata.set_index('BookID')"
   ]
  },
  {
   "cell_type": "code",
   "execution_count": 21,
   "id": "80123c17",
   "metadata": {},
   "outputs": [
    {
     "data": {
      "text/plain": [
       "Index(['GENRE', 'BOOKTITLE', 'AUTHOR', 'published_year', 'PAGES', 'keywords',\n",
       "       'word_dictionary'],\n",
       "      dtype='object')"
      ]
     },
     "execution_count": 21,
     "metadata": {},
     "output_type": "execute_result"
    }
   ],
   "source": [
    "bookdata.columns"
   ]
  },
  {
   "cell_type": "code",
   "execution_count": 22,
   "id": "e4146569",
   "metadata": {},
   "outputs": [],
   "source": [
    "columns = bookdata.columns\n",
    "for index, record in bookdata.iterrows():\n",
    "    words = ''\n",
    "    for col in columns:\n",
    "        if col == 'keywords':\n",
    "            words = words + ' '.join(record[col])+ ' '\n",
    "        else:\n",
    "            words = words + record[col]+ ' '\n",
    "\n",
    "    bookdata.at[index,'word_dictionary'] = words"
   ]
  },
  {
   "cell_type": "code",
   "execution_count": 23,
   "id": "970021b4",
   "metadata": {},
   "outputs": [
    {
     "data": {
      "text/html": [
       "<div>\n",
       "<style scoped>\n",
       "    .dataframe tbody tr th:only-of-type {\n",
       "        vertical-align: middle;\n",
       "    }\n",
       "\n",
       "    .dataframe tbody tr th {\n",
       "        vertical-align: top;\n",
       "    }\n",
       "\n",
       "    .dataframe thead th {\n",
       "        text-align: right;\n",
       "    }\n",
       "</style>\n",
       "<table border=\"1\" class=\"dataframe\">\n",
       "  <thead>\n",
       "    <tr style=\"text-align: right;\">\n",
       "      <th></th>\n",
       "      <th>GENRE</th>\n",
       "      <th>BOOKTITLE</th>\n",
       "      <th>AUTHOR</th>\n",
       "      <th>published_year</th>\n",
       "      <th>PAGES</th>\n",
       "      <th>keywords</th>\n",
       "      <th>word_dictionary</th>\n",
       "    </tr>\n",
       "    <tr>\n",
       "      <th>BookID</th>\n",
       "      <th></th>\n",
       "      <th></th>\n",
       "      <th></th>\n",
       "      <th></th>\n",
       "      <th></th>\n",
       "      <th></th>\n",
       "      <th></th>\n",
       "    </tr>\n",
       "  </thead>\n",
       "  <tbody>\n",
       "    <tr>\n",
       "      <th>114530</th>\n",
       "      <td>Fiction</td>\n",
       "      <td>The Curious Incident of the Dog in the Night-T...</td>\n",
       "      <td>Mark Haddon</td>\n",
       "      <td>2004</td>\n",
       "      <td>226</td>\n",
       "      <td>[christopher john francis boone knows, old chr...</td>\n",
       "      <td>Fiction The Curious Incident of the Dog in the...</td>\n",
       "    </tr>\n",
       "    <tr>\n",
       "      <th>133131</th>\n",
       "      <td>Science Fiction</td>\n",
       "      <td>Rainbows End by Vernor Vinge</td>\n",
       "      <td>Vernor Vinge</td>\n",
       "      <td>2007</td>\n",
       "      <td>381</td>\n",
       "      <td>[digital contextthrough smart contact lenses, ...</td>\n",
       "      <td>Science Fiction Rainbows End by Vernor Vinge V...</td>\n",
       "    </tr>\n",
       "    <tr>\n",
       "      <th>153927</th>\n",
       "      <td>Nonfiction</td>\n",
       "      <td>See No Evil: The True Story of a Ground Soldie...</td>\n",
       "      <td>Robert B. Baer</td>\n",
       "      <td>2003</td>\n",
       "      <td>320</td>\n",
       "      <td>[top cia operative robert baer paints, nationa...</td>\n",
       "      <td>Nonfiction See No Evil: The True Story of a Gr...</td>\n",
       "    </tr>\n",
       "    <tr>\n",
       "      <th>160262</th>\n",
       "      <td>History</td>\n",
       "      <td>Augustus: The Life of Rome's First Emperor by ...</td>\n",
       "      <td>Anthony Everitt</td>\n",
       "      <td>2006</td>\n",
       "      <td>327</td>\n",
       "      <td>[roman power two thousand years ago laid, two ...</td>\n",
       "      <td>History Augustus: The Life of Rome's First Emp...</td>\n",
       "    </tr>\n",
       "    <tr>\n",
       "      <th>133451</th>\n",
       "      <td>Mystery</td>\n",
       "      <td>An Unquiet Grave (Louis Kincaid, #7) by P.J. P...</td>\n",
       "      <td>P.J. Parrish</td>\n",
       "      <td>2006</td>\n",
       "      <td>384</td>\n",
       "      <td>[behind rusted iron gates, much louis kincaid ...</td>\n",
       "      <td>Mystery An Unquiet Grave (Louis Kincaid, #7) b...</td>\n",
       "    </tr>\n",
       "  </tbody>\n",
       "</table>\n",
       "</div>"
      ],
      "text/plain": [
       "                  GENRE                                          BOOKTITLE  \\\n",
       "BookID                                                                       \n",
       "114530          Fiction  The Curious Incident of the Dog in the Night-T...   \n",
       "133131  Science Fiction                       Rainbows End by Vernor Vinge   \n",
       "153927       Nonfiction  See No Evil: The True Story of a Ground Soldie...   \n",
       "160262          History  Augustus: The Life of Rome's First Emperor by ...   \n",
       "133451          Mystery  An Unquiet Grave (Louis Kincaid, #7) by P.J. P...   \n",
       "\n",
       "                 AUTHOR published_year PAGES  \\\n",
       "BookID                                         \n",
       "114530      Mark Haddon           2004   226   \n",
       "133131     Vernor Vinge           2007   381   \n",
       "153927   Robert B. Baer           2003   320   \n",
       "160262  Anthony Everitt           2006   327   \n",
       "133451     P.J. Parrish           2006   384   \n",
       "\n",
       "                                                 keywords  \\\n",
       "BookID                                                      \n",
       "114530  [christopher john francis boone knows, old chr...   \n",
       "133131  [digital contextthrough smart contact lenses, ...   \n",
       "153927  [top cia operative robert baer paints, nationa...   \n",
       "160262  [roman power two thousand years ago laid, two ...   \n",
       "133451  [behind rusted iron gates, much louis kincaid ...   \n",
       "\n",
       "                                          word_dictionary  \n",
       "BookID                                                     \n",
       "114530  Fiction The Curious Incident of the Dog in the...  \n",
       "133131  Science Fiction Rainbows End by Vernor Vinge V...  \n",
       "153927  Nonfiction See No Evil: The True Story of a Gr...  \n",
       "160262  History Augustus: The Life of Rome's First Emp...  \n",
       "133451  Mystery An Unquiet Grave (Louis Kincaid, #7) b...  "
      ]
     },
     "execution_count": 23,
     "metadata": {},
     "output_type": "execute_result"
    }
   ],
   "source": [
    "bookdata.head()"
   ]
  },
  {
   "cell_type": "markdown",
   "id": "aa8de594",
   "metadata": {},
   "source": [
    "Now we can drop all the other columns since we have its data in the word dictionary"
   ]
  },
  {
   "cell_type": "code",
   "execution_count": 24,
   "id": "162236f3",
   "metadata": {},
   "outputs": [],
   "source": [
    "cols=bookdata.columns"
   ]
  },
  {
   "cell_type": "code",
   "execution_count": 25,
   "id": "daa5dda5",
   "metadata": {},
   "outputs": [
    {
     "data": {
      "text/plain": [
       "Index(['GENRE', 'BOOKTITLE', 'AUTHOR', 'published_year', 'PAGES', 'keywords',\n",
       "       'word_dictionary'],\n",
       "      dtype='object')"
      ]
     },
     "execution_count": 25,
     "metadata": {},
     "output_type": "execute_result"
    }
   ],
   "source": [
    "cols"
   ]
  },
  {
   "cell_type": "code",
   "execution_count": 26,
   "id": "0417b804",
   "metadata": {},
   "outputs": [],
   "source": [
    "cols=cols.delete(len(cols)-1)"
   ]
  },
  {
   "cell_type": "code",
   "execution_count": 27,
   "id": "ffa3dfb4",
   "metadata": {},
   "outputs": [],
   "source": [
    "bookdata.drop(cols,axis=1,inplace=True)"
   ]
  },
  {
   "cell_type": "code",
   "execution_count": 28,
   "id": "7eeb1ca1",
   "metadata": {},
   "outputs": [
    {
     "data": {
      "text/html": [
       "<div>\n",
       "<style scoped>\n",
       "    .dataframe tbody tr th:only-of-type {\n",
       "        vertical-align: middle;\n",
       "    }\n",
       "\n",
       "    .dataframe tbody tr th {\n",
       "        vertical-align: top;\n",
       "    }\n",
       "\n",
       "    .dataframe thead th {\n",
       "        text-align: right;\n",
       "    }\n",
       "</style>\n",
       "<table border=\"1\" class=\"dataframe\">\n",
       "  <thead>\n",
       "    <tr style=\"text-align: right;\">\n",
       "      <th></th>\n",
       "      <th>word_dictionary</th>\n",
       "    </tr>\n",
       "    <tr>\n",
       "      <th>BookID</th>\n",
       "      <th></th>\n",
       "    </tr>\n",
       "  </thead>\n",
       "  <tbody>\n",
       "    <tr>\n",
       "      <th>114530</th>\n",
       "      <td>Fiction The Curious Incident of the Dog in the...</td>\n",
       "    </tr>\n",
       "    <tr>\n",
       "      <th>133131</th>\n",
       "      <td>Science Fiction Rainbows End by Vernor Vinge V...</td>\n",
       "    </tr>\n",
       "    <tr>\n",
       "      <th>153927</th>\n",
       "      <td>Nonfiction See No Evil: The True Story of a Gr...</td>\n",
       "    </tr>\n",
       "    <tr>\n",
       "      <th>160262</th>\n",
       "      <td>History Augustus: The Life of Rome's First Emp...</td>\n",
       "    </tr>\n",
       "    <tr>\n",
       "      <th>133451</th>\n",
       "      <td>Mystery An Unquiet Grave (Louis Kincaid, #7) b...</td>\n",
       "    </tr>\n",
       "  </tbody>\n",
       "</table>\n",
       "</div>"
      ],
      "text/plain": [
       "                                          word_dictionary\n",
       "BookID                                                   \n",
       "114530  Fiction The Curious Incident of the Dog in the...\n",
       "133131  Science Fiction Rainbows End by Vernor Vinge V...\n",
       "153927  Nonfiction See No Evil: The True Story of a Gr...\n",
       "160262  History Augustus: The Life of Rome's First Emp...\n",
       "133451  Mystery An Unquiet Grave (Louis Kincaid, #7) b..."
      ]
     },
     "execution_count": 28,
     "metadata": {},
     "output_type": "execute_result"
    }
   ],
   "source": [
    "bookdata.head()"
   ]
  },
  {
   "cell_type": "code",
   "execution_count": 29,
   "id": "318cbd7c",
   "metadata": {},
   "outputs": [
    {
     "data": {
      "text/plain": [
       "(2329, 1)"
      ]
     },
     "execution_count": 29,
     "metadata": {},
     "output_type": "execute_result"
    }
   ],
   "source": [
    "bookdata.shape"
   ]
  },
  {
   "cell_type": "code",
   "execution_count": 30,
   "id": "ef2880f9",
   "metadata": {},
   "outputs": [],
   "source": [
    "bookdata['BookID']= bookdata.index"
   ]
  },
  {
   "cell_type": "code",
   "execution_count": 31,
   "id": "d41b515d",
   "metadata": {},
   "outputs": [],
   "source": [
    "bookdata=bookdata.reset_index(drop='index')"
   ]
  },
  {
   "cell_type": "code",
   "execution_count": 33,
   "id": "4c7b7c6d",
   "metadata": {},
   "outputs": [],
   "source": [
    "bookdata=bookdata[['BookID','word_dictionary']]"
   ]
  },
  {
   "cell_type": "code",
   "execution_count": 34,
   "id": "033270e5",
   "metadata": {},
   "outputs": [
    {
     "data": {
      "text/html": [
       "<div>\n",
       "<style scoped>\n",
       "    .dataframe tbody tr th:only-of-type {\n",
       "        vertical-align: middle;\n",
       "    }\n",
       "\n",
       "    .dataframe tbody tr th {\n",
       "        vertical-align: top;\n",
       "    }\n",
       "\n",
       "    .dataframe thead th {\n",
       "        text-align: right;\n",
       "    }\n",
       "</style>\n",
       "<table border=\"1\" class=\"dataframe\">\n",
       "  <thead>\n",
       "    <tr style=\"text-align: right;\">\n",
       "      <th></th>\n",
       "      <th>BookID</th>\n",
       "      <th>word_dictionary</th>\n",
       "    </tr>\n",
       "  </thead>\n",
       "  <tbody>\n",
       "    <tr>\n",
       "      <th>0</th>\n",
       "      <td>114530</td>\n",
       "      <td>Fiction The Curious Incident of the Dog in the...</td>\n",
       "    </tr>\n",
       "    <tr>\n",
       "      <th>1</th>\n",
       "      <td>133131</td>\n",
       "      <td>Science Fiction Rainbows End by Vernor Vinge V...</td>\n",
       "    </tr>\n",
       "    <tr>\n",
       "      <th>2</th>\n",
       "      <td>153927</td>\n",
       "      <td>Nonfiction See No Evil: The True Story of a Gr...</td>\n",
       "    </tr>\n",
       "    <tr>\n",
       "      <th>3</th>\n",
       "      <td>160262</td>\n",
       "      <td>History Augustus: The Life of Rome's First Emp...</td>\n",
       "    </tr>\n",
       "    <tr>\n",
       "      <th>4</th>\n",
       "      <td>133451</td>\n",
       "      <td>Mystery An Unquiet Grave (Louis Kincaid, #7) b...</td>\n",
       "    </tr>\n",
       "  </tbody>\n",
       "</table>\n",
       "</div>"
      ],
      "text/plain": [
       "   BookID                                    word_dictionary\n",
       "0  114530  Fiction The Curious Incident of the Dog in the...\n",
       "1  133131  Science Fiction Rainbows End by Vernor Vinge V...\n",
       "2  153927  Nonfiction See No Evil: The True Story of a Gr...\n",
       "3  160262  History Augustus: The Life of Rome's First Emp...\n",
       "4  133451  Mystery An Unquiet Grave (Louis Kincaid, #7) b..."
      ]
     },
     "execution_count": 34,
     "metadata": {},
     "output_type": "execute_result"
    }
   ],
   "source": [
    "bookdata.head()"
   ]
  },
  {
   "cell_type": "code",
   "execution_count": 35,
   "id": "edb634ca",
   "metadata": {},
   "outputs": [
    {
     "data": {
      "text/html": [
       "<div>\n",
       "<style scoped>\n",
       "    .dataframe tbody tr th:only-of-type {\n",
       "        vertical-align: middle;\n",
       "    }\n",
       "\n",
       "    .dataframe tbody tr th {\n",
       "        vertical-align: top;\n",
       "    }\n",
       "\n",
       "    .dataframe thead th {\n",
       "        text-align: right;\n",
       "    }\n",
       "</style>\n",
       "<table border=\"1\" class=\"dataframe\">\n",
       "  <thead>\n",
       "    <tr style=\"text-align: right;\">\n",
       "      <th></th>\n",
       "      <th>BookID</th>\n",
       "      <th>GENRE</th>\n",
       "      <th>BOOKTITLE</th>\n",
       "      <th>AUTHOR</th>\n",
       "      <th>published_year</th>\n",
       "      <th>PAGES</th>\n",
       "      <th>keywords</th>\n",
       "    </tr>\n",
       "  </thead>\n",
       "  <tbody>\n",
       "    <tr>\n",
       "      <th>0</th>\n",
       "      <td>114530</td>\n",
       "      <td>Fiction</td>\n",
       "      <td>The Curious Incident of the Dog in the Night-T...</td>\n",
       "      <td>Mark Haddon</td>\n",
       "      <td>2004</td>\n",
       "      <td>226</td>\n",
       "      <td>[christopher john francis boone knows, old chr...</td>\n",
       "    </tr>\n",
       "    <tr>\n",
       "      <th>1</th>\n",
       "      <td>133131</td>\n",
       "      <td>Science Fiction</td>\n",
       "      <td>Rainbows End by Vernor Vinge</td>\n",
       "      <td>Vernor Vinge</td>\n",
       "      <td>2007</td>\n",
       "      <td>381</td>\n",
       "      <td>[digital contextthrough smart contact lenses, ...</td>\n",
       "    </tr>\n",
       "    <tr>\n",
       "      <th>2</th>\n",
       "      <td>153927</td>\n",
       "      <td>Nonfiction</td>\n",
       "      <td>See No Evil: The True Story of a Ground Soldie...</td>\n",
       "      <td>Robert B. Baer</td>\n",
       "      <td>2003</td>\n",
       "      <td>320</td>\n",
       "      <td>[top cia operative robert baer paints, nationa...</td>\n",
       "    </tr>\n",
       "    <tr>\n",
       "      <th>3</th>\n",
       "      <td>160262</td>\n",
       "      <td>History</td>\n",
       "      <td>Augustus: The Life of Rome's First Emperor by ...</td>\n",
       "      <td>Anthony Everitt</td>\n",
       "      <td>2006</td>\n",
       "      <td>327</td>\n",
       "      <td>[roman power two thousand years ago laid, two ...</td>\n",
       "    </tr>\n",
       "    <tr>\n",
       "      <th>4</th>\n",
       "      <td>133451</td>\n",
       "      <td>Mystery</td>\n",
       "      <td>An Unquiet Grave (Louis Kincaid, #7) by P.J. P...</td>\n",
       "      <td>P.J. Parrish</td>\n",
       "      <td>2006</td>\n",
       "      <td>384</td>\n",
       "      <td>[behind rusted iron gates, much louis kincaid ...</td>\n",
       "    </tr>\n",
       "  </tbody>\n",
       "</table>\n",
       "</div>"
      ],
      "text/plain": [
       "   BookID            GENRE                                          BOOKTITLE  \\\n",
       "0  114530          Fiction  The Curious Incident of the Dog in the Night-T...   \n",
       "1  133131  Science Fiction                       Rainbows End by Vernor Vinge   \n",
       "2  153927       Nonfiction  See No Evil: The True Story of a Ground Soldie...   \n",
       "3  160262          History  Augustus: The Life of Rome's First Emperor by ...   \n",
       "4  133451          Mystery  An Unquiet Grave (Louis Kincaid, #7) by P.J. P...   \n",
       "\n",
       "            AUTHOR  published_year  PAGES  \\\n",
       "0      Mark Haddon            2004    226   \n",
       "1     Vernor Vinge            2007    381   \n",
       "2   Robert B. Baer            2003    320   \n",
       "3  Anthony Everitt            2006    327   \n",
       "4     P.J. Parrish            2006    384   \n",
       "\n",
       "                                            keywords  \n",
       "0  [christopher john francis boone knows, old chr...  \n",
       "1  [digital contextthrough smart contact lenses, ...  \n",
       "2  [top cia operative robert baer paints, nationa...  \n",
       "3  [roman power two thousand years ago laid, two ...  \n",
       "4  [behind rusted iron gates, much louis kincaid ...  "
      ]
     },
     "execution_count": 35,
     "metadata": {},
     "output_type": "execute_result"
    }
   ],
   "source": [
    "b.head()"
   ]
  },
  {
   "cell_type": "code",
   "execution_count": 36,
   "id": "b1d644b3",
   "metadata": {},
   "outputs": [],
   "source": [
    "b['CombinedFeature']=b['BOOKTITLE']+' '+b['GENRE']"
   ]
  },
  {
   "cell_type": "code",
   "execution_count": 37,
   "id": "a848e281",
   "metadata": {},
   "outputs": [
    {
     "data": {
      "text/html": [
       "<div>\n",
       "<style scoped>\n",
       "    .dataframe tbody tr th:only-of-type {\n",
       "        vertical-align: middle;\n",
       "    }\n",
       "\n",
       "    .dataframe tbody tr th {\n",
       "        vertical-align: top;\n",
       "    }\n",
       "\n",
       "    .dataframe thead th {\n",
       "        text-align: right;\n",
       "    }\n",
       "</style>\n",
       "<table border=\"1\" class=\"dataframe\">\n",
       "  <thead>\n",
       "    <tr style=\"text-align: right;\">\n",
       "      <th></th>\n",
       "      <th>BookID</th>\n",
       "      <th>GENRE</th>\n",
       "      <th>BOOKTITLE</th>\n",
       "      <th>AUTHOR</th>\n",
       "      <th>published_year</th>\n",
       "      <th>PAGES</th>\n",
       "      <th>keywords</th>\n",
       "      <th>CombinedFeature</th>\n",
       "    </tr>\n",
       "  </thead>\n",
       "  <tbody>\n",
       "    <tr>\n",
       "      <th>0</th>\n",
       "      <td>114530</td>\n",
       "      <td>Fiction</td>\n",
       "      <td>The Curious Incident of the Dog in the Night-T...</td>\n",
       "      <td>Mark Haddon</td>\n",
       "      <td>2004</td>\n",
       "      <td>226</td>\n",
       "      <td>[christopher john francis boone knows, old chr...</td>\n",
       "      <td>The Curious Incident of the Dog in the Night-T...</td>\n",
       "    </tr>\n",
       "    <tr>\n",
       "      <th>1</th>\n",
       "      <td>133131</td>\n",
       "      <td>Science Fiction</td>\n",
       "      <td>Rainbows End by Vernor Vinge</td>\n",
       "      <td>Vernor Vinge</td>\n",
       "      <td>2007</td>\n",
       "      <td>381</td>\n",
       "      <td>[digital contextthrough smart contact lenses, ...</td>\n",
       "      <td>Rainbows End by Vernor Vinge Science Fiction</td>\n",
       "    </tr>\n",
       "    <tr>\n",
       "      <th>2</th>\n",
       "      <td>153927</td>\n",
       "      <td>Nonfiction</td>\n",
       "      <td>See No Evil: The True Story of a Ground Soldie...</td>\n",
       "      <td>Robert B. Baer</td>\n",
       "      <td>2003</td>\n",
       "      <td>320</td>\n",
       "      <td>[top cia operative robert baer paints, nationa...</td>\n",
       "      <td>See No Evil: The True Story of a Ground Soldie...</td>\n",
       "    </tr>\n",
       "    <tr>\n",
       "      <th>3</th>\n",
       "      <td>160262</td>\n",
       "      <td>History</td>\n",
       "      <td>Augustus: The Life of Rome's First Emperor by ...</td>\n",
       "      <td>Anthony Everitt</td>\n",
       "      <td>2006</td>\n",
       "      <td>327</td>\n",
       "      <td>[roman power two thousand years ago laid, two ...</td>\n",
       "      <td>Augustus: The Life of Rome's First Emperor by ...</td>\n",
       "    </tr>\n",
       "    <tr>\n",
       "      <th>4</th>\n",
       "      <td>133451</td>\n",
       "      <td>Mystery</td>\n",
       "      <td>An Unquiet Grave (Louis Kincaid, #7) by P.J. P...</td>\n",
       "      <td>P.J. Parrish</td>\n",
       "      <td>2006</td>\n",
       "      <td>384</td>\n",
       "      <td>[behind rusted iron gates, much louis kincaid ...</td>\n",
       "      <td>An Unquiet Grave (Louis Kincaid, #7) by P.J. P...</td>\n",
       "    </tr>\n",
       "  </tbody>\n",
       "</table>\n",
       "</div>"
      ],
      "text/plain": [
       "   BookID            GENRE                                          BOOKTITLE  \\\n",
       "0  114530          Fiction  The Curious Incident of the Dog in the Night-T...   \n",
       "1  133131  Science Fiction                       Rainbows End by Vernor Vinge   \n",
       "2  153927       Nonfiction  See No Evil: The True Story of a Ground Soldie...   \n",
       "3  160262          History  Augustus: The Life of Rome's First Emperor by ...   \n",
       "4  133451          Mystery  An Unquiet Grave (Louis Kincaid, #7) by P.J. P...   \n",
       "\n",
       "            AUTHOR  published_year  PAGES  \\\n",
       "0      Mark Haddon            2004    226   \n",
       "1     Vernor Vinge            2007    381   \n",
       "2   Robert B. Baer            2003    320   \n",
       "3  Anthony Everitt            2006    327   \n",
       "4     P.J. Parrish            2006    384   \n",
       "\n",
       "                                            keywords  \\\n",
       "0  [christopher john francis boone knows, old chr...   \n",
       "1  [digital contextthrough smart contact lenses, ...   \n",
       "2  [top cia operative robert baer paints, nationa...   \n",
       "3  [roman power two thousand years ago laid, two ...   \n",
       "4  [behind rusted iron gates, much louis kincaid ...   \n",
       "\n",
       "                                     CombinedFeature  \n",
       "0  The Curious Incident of the Dog in the Night-T...  \n",
       "1       Rainbows End by Vernor Vinge Science Fiction  \n",
       "2  See No Evil: The True Story of a Ground Soldie...  \n",
       "3  Augustus: The Life of Rome's First Emperor by ...  \n",
       "4  An Unquiet Grave (Louis Kincaid, #7) by P.J. P...  "
      ]
     },
     "execution_count": 37,
     "metadata": {},
     "output_type": "execute_result"
    }
   ],
   "source": [
    "b.head()"
   ]
  },
  {
   "cell_type": "markdown",
   "id": "37195c77",
   "metadata": {},
   "source": [
    "### Vectorize the data in the word dictionary feature column  "
   ]
  },
  {
   "cell_type": "code",
   "execution_count": 58,
   "id": "9457292d",
   "metadata": {},
   "outputs": [],
   "source": [
    "cm=CountVectorizer(analyzer='word',stop_words='english').fit_transform(bookdata['word_dictionary'])"
   ]
  },
  {
   "cell_type": "code",
   "execution_count": 59,
   "id": "f0751a80",
   "metadata": {},
   "outputs": [
    {
     "data": {
      "text/plain": [
       "<2329x36262 sparse matrix of type '<class 'numpy.int64'>'\n",
       "\twith 186114 stored elements in Compressed Sparse Row format>"
      ]
     },
     "execution_count": 59,
     "metadata": {},
     "output_type": "execute_result"
    }
   ],
   "source": [
    "cm"
   ]
  },
  {
   "cell_type": "code",
   "execution_count": 60,
   "id": "382d0900",
   "metadata": {},
   "outputs": [],
   "source": [
    "cs=cosine_similarity(cm)"
   ]
  },
  {
   "cell_type": "code",
   "execution_count": 61,
   "id": "05b476ec",
   "metadata": {},
   "outputs": [
    {
     "name": "stdout",
     "output_type": "stream",
     "text": [
      "[[1.         0.11914264 0.02407661 ... 0.05692384 0.02359938 0.        ]\n",
      " [0.11914264 1.         0.09850604 ... 0.07991524 0.03313111 0.04603415]\n",
      " [0.02407661 0.09850604 1.         ... 0.05075542 0.04208417 0.02894169]\n",
      " ...\n",
      " [0.05692384 0.07991524 0.05075542 ... 1.         0.02261335 0.00814598]\n",
      " [0.02359938 0.03313111 0.04208417 ... 0.02261335 1.         0.00675429]\n",
      " [0.         0.04603415 0.02894169 ... 0.00814598 0.00675429 1.        ]]\n"
     ]
    }
   ],
   "source": [
    "print(cs)"
   ]
  },
  {
   "cell_type": "code",
   "execution_count": 62,
   "id": "64efea92",
   "metadata": {},
   "outputs": [],
   "source": [
    "import json\n",
    "fileName='Cleaned datasets/fin.json'\n",
    "purchaseData = json.loads(open(fileName).read())"
   ]
  },
  {
   "cell_type": "code",
   "execution_count": 63,
   "id": "126015ce",
   "metadata": {},
   "outputs": [],
   "source": [
    "def recommendations(titles):\n",
    "    scores=[]\n",
    "    recommendedBooks=[]\n",
    "    arr=np.array(titles)\n",
    "    count=len(titles)\n",
    "    for title in titles:\n",
    "        index=bookdata.index[b.CombinedFeature== title[1]]\n",
    "        try:\n",
    "            index=index.values[0]\n",
    "        except:\n",
    "            pass\n",
    "        scores+=list(enumerate(cs[index]))\n",
    "    sorted_scores=sorted(scores,key=lambda x:x[1],reverse=True)   \n",
    "    sorted_scores=sorted_scores[count:count+10]\n",
    "    for idx in sorted_scores:\n",
    "        book=bookdata['BookID'].iloc[idx[0]]\n",
    "        accuracy=round(idx[1],2)\n",
    "#         val=f\"{book} with ({round(idx[1],2)}%) match to your taste\"\n",
    "        if book not in recommendedBooks and book not in arr[:,1] :\n",
    "             recommendedBooks.append(book)\n",
    "             \n",
    "#             recommendedBooks.append((book,accuracy))\n",
    "    return recommendedBooks"
   ]
  },
  {
   "cell_type": "code",
   "execution_count": 64,
   "id": "617548fe",
   "metadata": {},
   "outputs": [],
   "source": [
    "def showRecommendations(userid):\n",
    "    titles=purchaseData[userid]\n",
    "    if len(titles)>0:\n",
    "        bookids=recommendations(titles)\n",
    "    reclen=len(bookids)\n",
    "    if reclen<10:\n",
    "        bookids.extend(Top10Default[:10-reclen])\n",
    "    return bookids"
   ]
  },
  {
   "cell_type": "markdown",
   "id": "a79a5857",
   "metadata": {},
   "source": [
    "### Get Default recommendations"
   ]
  },
  {
   "cell_type": "code",
   "execution_count": 65,
   "id": "6181044a",
   "metadata": {},
   "outputs": [],
   "source": [
    "books=pd.read_csv('Cleaned datasets/BOOKMASTER.csv')"
   ]
  },
  {
   "cell_type": "code",
   "execution_count": 66,
   "id": "4242b233",
   "metadata": {},
   "outputs": [
    {
     "data": {
      "text/html": [
       "<div>\n",
       "<style scoped>\n",
       "    .dataframe tbody tr th:only-of-type {\n",
       "        vertical-align: middle;\n",
       "    }\n",
       "\n",
       "    .dataframe tbody tr th {\n",
       "        vertical-align: top;\n",
       "    }\n",
       "\n",
       "    .dataframe thead th {\n",
       "        text-align: right;\n",
       "    }\n",
       "</style>\n",
       "<table border=\"1\" class=\"dataframe\">\n",
       "  <thead>\n",
       "    <tr style=\"text-align: right;\">\n",
       "      <th></th>\n",
       "      <th>BookID</th>\n",
       "      <th>GENRE</th>\n",
       "      <th>AUTHORDESC</th>\n",
       "      <th>AUTHOR</th>\n",
       "      <th>BOOKTITLE</th>\n",
       "      <th>USERRATINGS</th>\n",
       "      <th>Popularity</th>\n",
       "      <th>PAGES</th>\n",
       "      <th>published_year</th>\n",
       "      <th>SUMMARY</th>\n",
       "    </tr>\n",
       "  </thead>\n",
       "  <tbody>\n",
       "    <tr>\n",
       "      <th>0</th>\n",
       "      <td>114530</td>\n",
       "      <td>Fiction</td>\n",
       "      <td>Mark Haddon is a British novelist and poet, be...</td>\n",
       "      <td>Mark Haddon</td>\n",
       "      <td>The Curious Incident of the Dog in the Night-T...</td>\n",
       "      <td>3.87</td>\n",
       "      <td>15417.968520</td>\n",
       "      <td>226</td>\n",
       "      <td>2004</td>\n",
       "      <td>Christopher John Francis Boone knows all the c...</td>\n",
       "    </tr>\n",
       "    <tr>\n",
       "      <th>1</th>\n",
       "      <td>133131</td>\n",
       "      <td>Science Fiction</td>\n",
       "      <td>Vernor Steffen Vinge is a retired San Diego St...</td>\n",
       "      <td>Vernor Vinge</td>\n",
       "      <td>Rainbows End by Vernor Vinge</td>\n",
       "      <td>3.76</td>\n",
       "      <td>218.146718</td>\n",
       "      <td>381</td>\n",
       "      <td>2007</td>\n",
       "      <td>Robert Gu is a recovering Alzheimer's patient....</td>\n",
       "    </tr>\n",
       "    <tr>\n",
       "      <th>2</th>\n",
       "      <td>153927</td>\n",
       "      <td>Nonfiction</td>\n",
       "      <td>ROBERT B. BAER is one of the most accomplished...</td>\n",
       "      <td>Robert B. Baer</td>\n",
       "      <td>See No Evil: The True Story of a Ground Soldie...</td>\n",
       "      <td>3.93</td>\n",
       "      <td>64.196614</td>\n",
       "      <td>320</td>\n",
       "      <td>2003</td>\n",
       "      <td>In his explosive New York Times bestseller, to...</td>\n",
       "    </tr>\n",
       "    <tr>\n",
       "      <th>3</th>\n",
       "      <td>160262</td>\n",
       "      <td>History</td>\n",
       "      <td>Anthony Everitt is a British academic. He stud...</td>\n",
       "      <td>Anthony Everitt</td>\n",
       "      <td>Augustus: The Life of Rome's First Emperor by ...</td>\n",
       "      <td>4.03</td>\n",
       "      <td>77.324027</td>\n",
       "      <td>327</td>\n",
       "      <td>2006</td>\n",
       "      <td>He found Rome made of clay and left it made of...</td>\n",
       "    </tr>\n",
       "    <tr>\n",
       "      <th>4</th>\n",
       "      <td>133451</td>\n",
       "      <td>Mystery</td>\n",
       "      <td>P.J. Parrish is the New York Times bestselling...</td>\n",
       "      <td>P.J. Parrish</td>\n",
       "      <td>An Unquiet Grave (Louis Kincaid, #7) by P.J. P...</td>\n",
       "      <td>4.12</td>\n",
       "      <td>10.454410</td>\n",
       "      <td>384</td>\n",
       "      <td>2006</td>\n",
       "      <td>Not Every Soul Rest in PeaceIn a remote corner...</td>\n",
       "    </tr>\n",
       "  </tbody>\n",
       "</table>\n",
       "</div>"
      ],
      "text/plain": [
       "   BookID            GENRE                                         AUTHORDESC  \\\n",
       "0  114530          Fiction  Mark Haddon is a British novelist and poet, be...   \n",
       "1  133131  Science Fiction  Vernor Steffen Vinge is a retired San Diego St...   \n",
       "2  153927       Nonfiction  ROBERT B. BAER is one of the most accomplished...   \n",
       "3  160262          History  Anthony Everitt is a British academic. He stud...   \n",
       "4  133451          Mystery  P.J. Parrish is the New York Times bestselling...   \n",
       "\n",
       "            AUTHOR                                          BOOKTITLE  \\\n",
       "0      Mark Haddon  The Curious Incident of the Dog in the Night-T...   \n",
       "1     Vernor Vinge                       Rainbows End by Vernor Vinge   \n",
       "2   Robert B. Baer  See No Evil: The True Story of a Ground Soldie...   \n",
       "3  Anthony Everitt  Augustus: The Life of Rome's First Emperor by ...   \n",
       "4     P.J. Parrish  An Unquiet Grave (Louis Kincaid, #7) by P.J. P...   \n",
       "\n",
       "   USERRATINGS    Popularity  PAGES  published_year  \\\n",
       "0         3.87  15417.968520    226            2004   \n",
       "1         3.76    218.146718    381            2007   \n",
       "2         3.93     64.196614    320            2003   \n",
       "3         4.03     77.324027    327            2006   \n",
       "4         4.12     10.454410    384            2006   \n",
       "\n",
       "                                             SUMMARY  \n",
       "0  Christopher John Francis Boone knows all the c...  \n",
       "1  Robert Gu is a recovering Alzheimer's patient....  \n",
       "2  In his explosive New York Times bestseller, to...  \n",
       "3  He found Rome made of clay and left it made of...  \n",
       "4  Not Every Soul Rest in PeaceIn a remote corner...  "
      ]
     },
     "execution_count": 66,
     "metadata": {},
     "output_type": "execute_result"
    }
   ],
   "source": [
    "books.head()"
   ]
  },
  {
   "cell_type": "code",
   "execution_count": 129,
   "id": "33ed3c49",
   "metadata": {},
   "outputs": [],
   "source": [
    "q='select BookID from books where USERRATINGS>4 and Popularity>29000 order by Popularity desc'"
   ]
  },
  {
   "cell_type": "code",
   "execution_count": 130,
   "id": "255145eb",
   "metadata": {},
   "outputs": [],
   "source": [
    "ids=ps.sqldf(q)"
   ]
  },
  {
   "cell_type": "code",
   "execution_count": 131,
   "id": "86a51028",
   "metadata": {},
   "outputs": [
    {
     "data": {
      "text/html": [
       "<div>\n",
       "<style scoped>\n",
       "    .dataframe tbody tr th:only-of-type {\n",
       "        vertical-align: middle;\n",
       "    }\n",
       "\n",
       "    .dataframe tbody tr th {\n",
       "        vertical-align: top;\n",
       "    }\n",
       "\n",
       "    .dataframe thead th {\n",
       "        text-align: right;\n",
       "    }\n",
       "</style>\n",
       "<table border=\"1\" class=\"dataframe\">\n",
       "  <thead>\n",
       "    <tr style=\"text-align: right;\">\n",
       "      <th></th>\n",
       "      <th>BookID</th>\n",
       "    </tr>\n",
       "  </thead>\n",
       "  <tbody>\n",
       "    <tr>\n",
       "      <th>0</th>\n",
       "      <td>119228</td>\n",
       "    </tr>\n",
       "    <tr>\n",
       "      <th>1</th>\n",
       "      <td>150279</td>\n",
       "    </tr>\n",
       "    <tr>\n",
       "      <th>2</th>\n",
       "      <td>171049</td>\n",
       "    </tr>\n",
       "    <tr>\n",
       "      <th>3</th>\n",
       "      <td>174056</td>\n",
       "    </tr>\n",
       "    <tr>\n",
       "      <th>4</th>\n",
       "      <td>156940</td>\n",
       "    </tr>\n",
       "    <tr>\n",
       "      <th>5</th>\n",
       "      <td>149888</td>\n",
       "    </tr>\n",
       "    <tr>\n",
       "      <th>6</th>\n",
       "      <td>141668</td>\n",
       "    </tr>\n",
       "    <tr>\n",
       "      <th>7</th>\n",
       "      <td>149428</td>\n",
       "    </tr>\n",
       "    <tr>\n",
       "      <th>8</th>\n",
       "      <td>168295</td>\n",
       "    </tr>\n",
       "    <tr>\n",
       "      <th>9</th>\n",
       "      <td>101133</td>\n",
       "    </tr>\n",
       "  </tbody>\n",
       "</table>\n",
       "</div>"
      ],
      "text/plain": [
       "   BookID\n",
       "0  119228\n",
       "1  150279\n",
       "2  171049\n",
       "3  174056\n",
       "4  156940\n",
       "5  149888\n",
       "6  141668\n",
       "7  149428\n",
       "8  168295\n",
       "9  101133"
      ]
     },
     "execution_count": 131,
     "metadata": {},
     "output_type": "execute_result"
    }
   ],
   "source": [
    "ids"
   ]
  },
  {
   "cell_type": "code",
   "execution_count": 132,
   "id": "8d8b860e",
   "metadata": {},
   "outputs": [],
   "source": [
    "Top10Default=list(ids['BookID'])"
   ]
  },
  {
   "cell_type": "markdown",
   "id": "f4e76aab",
   "metadata": {},
   "source": [
    "### Generate Recommendations for all the users"
   ]
  },
  {
   "cell_type": "code",
   "execution_count": 71,
   "id": "9ae4e459",
   "metadata": {},
   "outputs": [],
   "source": [
    "users=purchaseData.keys()"
   ]
  },
  {
   "cell_type": "code",
   "execution_count": 72,
   "id": "93208c40",
   "metadata": {},
   "outputs": [],
   "source": [
    "users=list(users)"
   ]
  },
  {
   "cell_type": "code",
   "execution_count": 73,
   "id": "dff202de",
   "metadata": {},
   "outputs": [],
   "source": [
    "def generateRecs(users):\n",
    "    recs={}\n",
    "    for user in users:\n",
    "        _recs=','.join(map(str, showRecommendations(user))) \n",
    "        recs[user]=_recs\n",
    "    return recs\n",
    "    "
   ]
  },
  {
   "cell_type": "code",
   "execution_count": 74,
   "id": "ad0507e3",
   "metadata": {},
   "outputs": [],
   "source": [
    "recs=generateRecs(users)"
   ]
  },
  {
   "cell_type": "markdown",
   "id": "5221ead6",
   "metadata": {},
   "source": [
    "**recs is the dictionary having user and the recommendations as key-value pairs**"
   ]
  },
  {
   "cell_type": "code",
   "execution_count": 76,
   "id": "0cf4e841",
   "metadata": {},
   "outputs": [],
   "source": [
    "recommendations=pd.DataFrame(recs,index=['Recommendations'])"
   ]
  },
  {
   "cell_type": "code",
   "execution_count": 77,
   "id": "7cdfbdc0",
   "metadata": {},
   "outputs": [],
   "source": [
    "recommendations=recommendations.T"
   ]
  },
  {
   "cell_type": "code",
   "execution_count": 78,
   "id": "744483c3",
   "metadata": {},
   "outputs": [
    {
     "data": {
      "text/html": [
       "<div>\n",
       "<style scoped>\n",
       "    .dataframe tbody tr th:only-of-type {\n",
       "        vertical-align: middle;\n",
       "    }\n",
       "\n",
       "    .dataframe tbody tr th {\n",
       "        vertical-align: top;\n",
       "    }\n",
       "\n",
       "    .dataframe thead th {\n",
       "        text-align: right;\n",
       "    }\n",
       "</style>\n",
       "<table border=\"1\" class=\"dataframe\">\n",
       "  <thead>\n",
       "    <tr style=\"text-align: right;\">\n",
       "      <th></th>\n",
       "      <th>Recommendations</th>\n",
       "    </tr>\n",
       "  </thead>\n",
       "  <tbody>\n",
       "    <tr>\n",
       "      <th>608502</th>\n",
       "      <td>107517,135185,178940,158208,103259,128314,1635...</td>\n",
       "    </tr>\n",
       "    <tr>\n",
       "      <th>641650</th>\n",
       "      <td>135185,179241,177188,167731,145619,114643,1032...</td>\n",
       "    </tr>\n",
       "    <tr>\n",
       "      <th>619531</th>\n",
       "      <td>145345,129371,141618,110105,169704,171644,1217...</td>\n",
       "    </tr>\n",
       "    <tr>\n",
       "      <th>628661</th>\n",
       "      <td>129769,105425,172969,118410,119688,118204,1427...</td>\n",
       "    </tr>\n",
       "    <tr>\n",
       "      <th>622287</th>\n",
       "      <td>100899,160887,164329,144974,139800,152007,1579...</td>\n",
       "    </tr>\n",
       "    <tr>\n",
       "      <th>...</th>\n",
       "      <td>...</td>\n",
       "    </tr>\n",
       "    <tr>\n",
       "      <th>649637</th>\n",
       "      <td>129944,161430,107050,100883,138442,156315,1046...</td>\n",
       "    </tr>\n",
       "    <tr>\n",
       "      <th>669681</th>\n",
       "      <td>157022,167798,119688,156906,132173,132764,1360...</td>\n",
       "    </tr>\n",
       "    <tr>\n",
       "      <th>619346</th>\n",
       "      <td>114660,118406,158364,157955,160350,120912,1341...</td>\n",
       "    </tr>\n",
       "    <tr>\n",
       "      <th>630708</th>\n",
       "      <td>143050,100327,130931,121497,140739,160363,1548...</td>\n",
       "    </tr>\n",
       "    <tr>\n",
       "      <th>656410</th>\n",
       "      <td>155710,132404,165326,115994,162775,139541,1146...</td>\n",
       "    </tr>\n",
       "  </tbody>\n",
       "</table>\n",
       "<p>7499 rows × 1 columns</p>\n",
       "</div>"
      ],
      "text/plain": [
       "                                          Recommendations\n",
       "608502  107517,135185,178940,158208,103259,128314,1635...\n",
       "641650  135185,179241,177188,167731,145619,114643,1032...\n",
       "619531  145345,129371,141618,110105,169704,171644,1217...\n",
       "628661  129769,105425,172969,118410,119688,118204,1427...\n",
       "622287  100899,160887,164329,144974,139800,152007,1579...\n",
       "...                                                   ...\n",
       "649637  129944,161430,107050,100883,138442,156315,1046...\n",
       "669681  157022,167798,119688,156906,132173,132764,1360...\n",
       "619346  114660,118406,158364,157955,160350,120912,1341...\n",
       "630708  143050,100327,130931,121497,140739,160363,1548...\n",
       "656410  155710,132404,165326,115994,162775,139541,1146...\n",
       "\n",
       "[7499 rows x 1 columns]"
      ]
     },
     "execution_count": 78,
     "metadata": {},
     "output_type": "execute_result"
    }
   ],
   "source": [
    "recommendations"
   ]
  },
  {
   "cell_type": "code",
   "execution_count": 79,
   "id": "e7775861",
   "metadata": {},
   "outputs": [],
   "source": [
    "recommendations['UserID']=recommendations.index"
   ]
  },
  {
   "cell_type": "code",
   "execution_count": 80,
   "id": "320080bf",
   "metadata": {},
   "outputs": [],
   "source": [
    "recommendations=recommendations[['UserID','Recommendations']]"
   ]
  },
  {
   "cell_type": "code",
   "execution_count": 81,
   "id": "7a0c944a",
   "metadata": {},
   "outputs": [
    {
     "data": {
      "text/html": [
       "<div>\n",
       "<style scoped>\n",
       "    .dataframe tbody tr th:only-of-type {\n",
       "        vertical-align: middle;\n",
       "    }\n",
       "\n",
       "    .dataframe tbody tr th {\n",
       "        vertical-align: top;\n",
       "    }\n",
       "\n",
       "    .dataframe thead th {\n",
       "        text-align: right;\n",
       "    }\n",
       "</style>\n",
       "<table border=\"1\" class=\"dataframe\">\n",
       "  <thead>\n",
       "    <tr style=\"text-align: right;\">\n",
       "      <th></th>\n",
       "      <th>UserID</th>\n",
       "      <th>Recommendations</th>\n",
       "    </tr>\n",
       "  </thead>\n",
       "  <tbody>\n",
       "    <tr>\n",
       "      <th>608502</th>\n",
       "      <td>608502</td>\n",
       "      <td>107517,135185,178940,158208,103259,128314,1635...</td>\n",
       "    </tr>\n",
       "    <tr>\n",
       "      <th>641650</th>\n",
       "      <td>641650</td>\n",
       "      <td>135185,179241,177188,167731,145619,114643,1032...</td>\n",
       "    </tr>\n",
       "    <tr>\n",
       "      <th>619531</th>\n",
       "      <td>619531</td>\n",
       "      <td>145345,129371,141618,110105,169704,171644,1217...</td>\n",
       "    </tr>\n",
       "    <tr>\n",
       "      <th>628661</th>\n",
       "      <td>628661</td>\n",
       "      <td>129769,105425,172969,118410,119688,118204,1427...</td>\n",
       "    </tr>\n",
       "    <tr>\n",
       "      <th>622287</th>\n",
       "      <td>622287</td>\n",
       "      <td>100899,160887,164329,144974,139800,152007,1579...</td>\n",
       "    </tr>\n",
       "    <tr>\n",
       "      <th>...</th>\n",
       "      <td>...</td>\n",
       "      <td>...</td>\n",
       "    </tr>\n",
       "    <tr>\n",
       "      <th>649637</th>\n",
       "      <td>649637</td>\n",
       "      <td>129944,161430,107050,100883,138442,156315,1046...</td>\n",
       "    </tr>\n",
       "    <tr>\n",
       "      <th>669681</th>\n",
       "      <td>669681</td>\n",
       "      <td>157022,167798,119688,156906,132173,132764,1360...</td>\n",
       "    </tr>\n",
       "    <tr>\n",
       "      <th>619346</th>\n",
       "      <td>619346</td>\n",
       "      <td>114660,118406,158364,157955,160350,120912,1341...</td>\n",
       "    </tr>\n",
       "    <tr>\n",
       "      <th>630708</th>\n",
       "      <td>630708</td>\n",
       "      <td>143050,100327,130931,121497,140739,160363,1548...</td>\n",
       "    </tr>\n",
       "    <tr>\n",
       "      <th>656410</th>\n",
       "      <td>656410</td>\n",
       "      <td>155710,132404,165326,115994,162775,139541,1146...</td>\n",
       "    </tr>\n",
       "  </tbody>\n",
       "</table>\n",
       "<p>7499 rows × 2 columns</p>\n",
       "</div>"
      ],
      "text/plain": [
       "        UserID                                    Recommendations\n",
       "608502  608502  107517,135185,178940,158208,103259,128314,1635...\n",
       "641650  641650  135185,179241,177188,167731,145619,114643,1032...\n",
       "619531  619531  145345,129371,141618,110105,169704,171644,1217...\n",
       "628661  628661  129769,105425,172969,118410,119688,118204,1427...\n",
       "622287  622287  100899,160887,164329,144974,139800,152007,1579...\n",
       "...        ...                                                ...\n",
       "649637  649637  129944,161430,107050,100883,138442,156315,1046...\n",
       "669681  669681  157022,167798,119688,156906,132173,132764,1360...\n",
       "619346  619346  114660,118406,158364,157955,160350,120912,1341...\n",
       "630708  630708  143050,100327,130931,121497,140739,160363,1548...\n",
       "656410  656410  155710,132404,165326,115994,162775,139541,1146...\n",
       "\n",
       "[7499 rows x 2 columns]"
      ]
     },
     "execution_count": 81,
     "metadata": {},
     "output_type": "execute_result"
    }
   ],
   "source": [
    "recommendations"
   ]
  },
  {
   "cell_type": "code",
   "execution_count": 82,
   "id": "52d98185",
   "metadata": {},
   "outputs": [],
   "source": [
    "recommendations=recommendations.reset_index(drop='index')"
   ]
  },
  {
   "cell_type": "code",
   "execution_count": 83,
   "id": "534312d5",
   "metadata": {},
   "outputs": [
    {
     "data": {
      "text/html": [
       "<div>\n",
       "<style scoped>\n",
       "    .dataframe tbody tr th:only-of-type {\n",
       "        vertical-align: middle;\n",
       "    }\n",
       "\n",
       "    .dataframe tbody tr th {\n",
       "        vertical-align: top;\n",
       "    }\n",
       "\n",
       "    .dataframe thead th {\n",
       "        text-align: right;\n",
       "    }\n",
       "</style>\n",
       "<table border=\"1\" class=\"dataframe\">\n",
       "  <thead>\n",
       "    <tr style=\"text-align: right;\">\n",
       "      <th></th>\n",
       "      <th>UserID</th>\n",
       "      <th>Recommendations</th>\n",
       "    </tr>\n",
       "  </thead>\n",
       "  <tbody>\n",
       "    <tr>\n",
       "      <th>0</th>\n",
       "      <td>608502</td>\n",
       "      <td>107517,135185,178940,158208,103259,128314,1635...</td>\n",
       "    </tr>\n",
       "    <tr>\n",
       "      <th>1</th>\n",
       "      <td>641650</td>\n",
       "      <td>135185,179241,177188,167731,145619,114643,1032...</td>\n",
       "    </tr>\n",
       "    <tr>\n",
       "      <th>2</th>\n",
       "      <td>619531</td>\n",
       "      <td>145345,129371,141618,110105,169704,171644,1217...</td>\n",
       "    </tr>\n",
       "    <tr>\n",
       "      <th>3</th>\n",
       "      <td>628661</td>\n",
       "      <td>129769,105425,172969,118410,119688,118204,1427...</td>\n",
       "    </tr>\n",
       "    <tr>\n",
       "      <th>4</th>\n",
       "      <td>622287</td>\n",
       "      <td>100899,160887,164329,144974,139800,152007,1579...</td>\n",
       "    </tr>\n",
       "    <tr>\n",
       "      <th>...</th>\n",
       "      <td>...</td>\n",
       "      <td>...</td>\n",
       "    </tr>\n",
       "    <tr>\n",
       "      <th>7494</th>\n",
       "      <td>649637</td>\n",
       "      <td>129944,161430,107050,100883,138442,156315,1046...</td>\n",
       "    </tr>\n",
       "    <tr>\n",
       "      <th>7495</th>\n",
       "      <td>669681</td>\n",
       "      <td>157022,167798,119688,156906,132173,132764,1360...</td>\n",
       "    </tr>\n",
       "    <tr>\n",
       "      <th>7496</th>\n",
       "      <td>619346</td>\n",
       "      <td>114660,118406,158364,157955,160350,120912,1341...</td>\n",
       "    </tr>\n",
       "    <tr>\n",
       "      <th>7497</th>\n",
       "      <td>630708</td>\n",
       "      <td>143050,100327,130931,121497,140739,160363,1548...</td>\n",
       "    </tr>\n",
       "    <tr>\n",
       "      <th>7498</th>\n",
       "      <td>656410</td>\n",
       "      <td>155710,132404,165326,115994,162775,139541,1146...</td>\n",
       "    </tr>\n",
       "  </tbody>\n",
       "</table>\n",
       "<p>7499 rows × 2 columns</p>\n",
       "</div>"
      ],
      "text/plain": [
       "      UserID                                    Recommendations\n",
       "0     608502  107517,135185,178940,158208,103259,128314,1635...\n",
       "1     641650  135185,179241,177188,167731,145619,114643,1032...\n",
       "2     619531  145345,129371,141618,110105,169704,171644,1217...\n",
       "3     628661  129769,105425,172969,118410,119688,118204,1427...\n",
       "4     622287  100899,160887,164329,144974,139800,152007,1579...\n",
       "...      ...                                                ...\n",
       "7494  649637  129944,161430,107050,100883,138442,156315,1046...\n",
       "7495  669681  157022,167798,119688,156906,132173,132764,1360...\n",
       "7496  619346  114660,118406,158364,157955,160350,120912,1341...\n",
       "7497  630708  143050,100327,130931,121497,140739,160363,1548...\n",
       "7498  656410  155710,132404,165326,115994,162775,139541,1146...\n",
       "\n",
       "[7499 rows x 2 columns]"
      ]
     },
     "execution_count": 83,
     "metadata": {},
     "output_type": "execute_result"
    }
   ],
   "source": [
    "recommendations"
   ]
  },
  {
   "cell_type": "code",
   "execution_count": 84,
   "id": "ebb6689a",
   "metadata": {},
   "outputs": [],
   "source": [
    "recommendations[['1','2','3','4','5','6','7','8','9','10']] = recommendations['Recommendations'].str.split(',',expand=True)"
   ]
  },
  {
   "cell_type": "code",
   "execution_count": 85,
   "id": "959aaae6",
   "metadata": {},
   "outputs": [],
   "source": [
    "recommendations.drop('Recommendations',axis=1,inplace=True)"
   ]
  },
  {
   "cell_type": "code",
   "execution_count": 86,
   "id": "b96af641",
   "metadata": {},
   "outputs": [
    {
     "data": {
      "text/html": [
       "<div>\n",
       "<style scoped>\n",
       "    .dataframe tbody tr th:only-of-type {\n",
       "        vertical-align: middle;\n",
       "    }\n",
       "\n",
       "    .dataframe tbody tr th {\n",
       "        vertical-align: top;\n",
       "    }\n",
       "\n",
       "    .dataframe thead th {\n",
       "        text-align: right;\n",
       "    }\n",
       "</style>\n",
       "<table border=\"1\" class=\"dataframe\">\n",
       "  <thead>\n",
       "    <tr style=\"text-align: right;\">\n",
       "      <th></th>\n",
       "      <th>UserID</th>\n",
       "      <th>1</th>\n",
       "      <th>2</th>\n",
       "      <th>3</th>\n",
       "      <th>4</th>\n",
       "      <th>5</th>\n",
       "      <th>6</th>\n",
       "      <th>7</th>\n",
       "      <th>8</th>\n",
       "      <th>9</th>\n",
       "      <th>10</th>\n",
       "    </tr>\n",
       "  </thead>\n",
       "  <tbody>\n",
       "    <tr>\n",
       "      <th>0</th>\n",
       "      <td>608502</td>\n",
       "      <td>107517</td>\n",
       "      <td>135185</td>\n",
       "      <td>178940</td>\n",
       "      <td>158208</td>\n",
       "      <td>103259</td>\n",
       "      <td>128314</td>\n",
       "      <td>163566</td>\n",
       "      <td>114334</td>\n",
       "      <td>159439</td>\n",
       "      <td>135898</td>\n",
       "    </tr>\n",
       "    <tr>\n",
       "      <th>1</th>\n",
       "      <td>641650</td>\n",
       "      <td>135185</td>\n",
       "      <td>179241</td>\n",
       "      <td>177188</td>\n",
       "      <td>167731</td>\n",
       "      <td>145619</td>\n",
       "      <td>114643</td>\n",
       "      <td>103259</td>\n",
       "      <td>179744</td>\n",
       "      <td>171027</td>\n",
       "      <td>163566</td>\n",
       "    </tr>\n",
       "    <tr>\n",
       "      <th>2</th>\n",
       "      <td>619531</td>\n",
       "      <td>145345</td>\n",
       "      <td>129371</td>\n",
       "      <td>141618</td>\n",
       "      <td>110105</td>\n",
       "      <td>169704</td>\n",
       "      <td>171644</td>\n",
       "      <td>121705</td>\n",
       "      <td>170644</td>\n",
       "      <td>159600</td>\n",
       "      <td>126066</td>\n",
       "    </tr>\n",
       "    <tr>\n",
       "      <th>3</th>\n",
       "      <td>628661</td>\n",
       "      <td>129769</td>\n",
       "      <td>105425</td>\n",
       "      <td>172969</td>\n",
       "      <td>118410</td>\n",
       "      <td>119688</td>\n",
       "      <td>118204</td>\n",
       "      <td>142785</td>\n",
       "      <td>166469</td>\n",
       "      <td>104554</td>\n",
       "      <td>174897</td>\n",
       "    </tr>\n",
       "    <tr>\n",
       "      <th>4</th>\n",
       "      <td>622287</td>\n",
       "      <td>100899</td>\n",
       "      <td>160887</td>\n",
       "      <td>164329</td>\n",
       "      <td>144974</td>\n",
       "      <td>139800</td>\n",
       "      <td>152007</td>\n",
       "      <td>157955</td>\n",
       "      <td>178793</td>\n",
       "      <td>109725</td>\n",
       "      <td>144902</td>\n",
       "    </tr>\n",
       "  </tbody>\n",
       "</table>\n",
       "</div>"
      ],
      "text/plain": [
       "   UserID       1       2       3       4       5       6       7       8  \\\n",
       "0  608502  107517  135185  178940  158208  103259  128314  163566  114334   \n",
       "1  641650  135185  179241  177188  167731  145619  114643  103259  179744   \n",
       "2  619531  145345  129371  141618  110105  169704  171644  121705  170644   \n",
       "3  628661  129769  105425  172969  118410  119688  118204  142785  166469   \n",
       "4  622287  100899  160887  164329  144974  139800  152007  157955  178793   \n",
       "\n",
       "        9      10  \n",
       "0  159439  135898  \n",
       "1  171027  163566  \n",
       "2  159600  126066  \n",
       "3  104554  174897  \n",
       "4  109725  144902  "
      ]
     },
     "execution_count": 86,
     "metadata": {},
     "output_type": "execute_result"
    }
   ],
   "source": [
    "recommendations.head()"
   ]
  },
  {
   "cell_type": "markdown",
   "id": "b7aee8b1",
   "metadata": {},
   "source": [
    "**In the above result the recommendations dataframe consists of the user id and 10 book recommendations to the user**"
   ]
  },
  {
   "cell_type": "markdown",
   "id": "f069d790",
   "metadata": {},
   "source": [
    "#### A method to find the recommendations for a particular user"
   ]
  },
  {
   "cell_type": "code",
   "execution_count": 87,
   "id": "ece07a3a",
   "metadata": {},
   "outputs": [],
   "source": [
    "def findRecs(userid):\n",
    "    try:\n",
    "        recs=recommendations[recommendations['UserID']==str(userid)][['1','2','3','4','5','6','7','8','9','10']]\n",
    "        recommendedBooks=[]\n",
    "        for i in range(1,11):\n",
    "            _i=recs[f'{i}']\n",
    "            recommendedBooks.append(_i[0])\n",
    "    except:\n",
    "        return Top10Default\n",
    "    return recommendedBooks"
   ]
  },
  {
   "cell_type": "code",
   "execution_count": 88,
   "id": "6f229efe",
   "metadata": {},
   "outputs": [],
   "source": [
    "ls=findRecs(608502)"
   ]
  },
  {
   "cell_type": "code",
   "execution_count": 89,
   "id": "40a6cbe5",
   "metadata": {},
   "outputs": [
    {
     "data": {
      "text/plain": [
       "['107517',\n",
       " '135185',\n",
       " '178940',\n",
       " '158208',\n",
       " '103259',\n",
       " '128314',\n",
       " '163566',\n",
       " '114334',\n",
       " '159439',\n",
       " '135898']"
      ]
     },
     "execution_count": 89,
     "metadata": {},
     "output_type": "execute_result"
    }
   ],
   "source": [
    "ls"
   ]
  },
  {
   "cell_type": "markdown",
   "id": "4ff6fa37",
   "metadata": {},
   "source": [
    "## Final submission data for content based model"
   ]
  },
  {
   "cell_type": "code",
   "execution_count": 90,
   "id": "741c5a06",
   "metadata": {},
   "outputs": [],
   "source": [
    "users=pd.read_csv(\"raw datasets/SAMPLESUBMISSION.CSV\")"
   ]
  },
  {
   "cell_type": "code",
   "execution_count": 91,
   "id": "e818c65a",
   "metadata": {},
   "outputs": [
    {
     "data": {
      "text/html": [
       "<div>\n",
       "<style scoped>\n",
       "    .dataframe tbody tr th:only-of-type {\n",
       "        vertical-align: middle;\n",
       "    }\n",
       "\n",
       "    .dataframe tbody tr th {\n",
       "        vertical-align: top;\n",
       "    }\n",
       "\n",
       "    .dataframe thead th {\n",
       "        text-align: right;\n",
       "    }\n",
       "</style>\n",
       "<table border=\"1\" class=\"dataframe\">\n",
       "  <thead>\n",
       "    <tr style=\"text-align: right;\">\n",
       "      <th></th>\n",
       "      <th>USERID</th>\n",
       "      <th>PURCHASEDBOOKID</th>\n",
       "    </tr>\n",
       "  </thead>\n",
       "  <tbody>\n",
       "    <tr>\n",
       "      <th>0</th>\n",
       "      <td>600003</td>\n",
       "      <td>NaN</td>\n",
       "    </tr>\n",
       "    <tr>\n",
       "      <th>1</th>\n",
       "      <td>600008</td>\n",
       "      <td>NaN</td>\n",
       "    </tr>\n",
       "    <tr>\n",
       "      <th>2</th>\n",
       "      <td>600011</td>\n",
       "      <td>NaN</td>\n",
       "    </tr>\n",
       "    <tr>\n",
       "      <th>3</th>\n",
       "      <td>600017</td>\n",
       "      <td>NaN</td>\n",
       "    </tr>\n",
       "    <tr>\n",
       "      <th>4</th>\n",
       "      <td>600020</td>\n",
       "      <td>NaN</td>\n",
       "    </tr>\n",
       "    <tr>\n",
       "      <th>...</th>\n",
       "      <td>...</td>\n",
       "      <td>...</td>\n",
       "    </tr>\n",
       "    <tr>\n",
       "      <th>14995</th>\n",
       "      <td>674975</td>\n",
       "      <td>NaN</td>\n",
       "    </tr>\n",
       "    <tr>\n",
       "      <th>14996</th>\n",
       "      <td>674984</td>\n",
       "      <td>NaN</td>\n",
       "    </tr>\n",
       "    <tr>\n",
       "      <th>14997</th>\n",
       "      <td>674986</td>\n",
       "      <td>NaN</td>\n",
       "    </tr>\n",
       "    <tr>\n",
       "      <th>14998</th>\n",
       "      <td>674992</td>\n",
       "      <td>NaN</td>\n",
       "    </tr>\n",
       "    <tr>\n",
       "      <th>14999</th>\n",
       "      <td>674999</td>\n",
       "      <td>NaN</td>\n",
       "    </tr>\n",
       "  </tbody>\n",
       "</table>\n",
       "<p>15000 rows × 2 columns</p>\n",
       "</div>"
      ],
      "text/plain": [
       "       USERID  PURCHASEDBOOKID\n",
       "0      600003              NaN\n",
       "1      600008              NaN\n",
       "2      600011              NaN\n",
       "3      600017              NaN\n",
       "4      600020              NaN\n",
       "...       ...              ...\n",
       "14995  674975              NaN\n",
       "14996  674984              NaN\n",
       "14997  674986              NaN\n",
       "14998  674992              NaN\n",
       "14999  674999              NaN\n",
       "\n",
       "[15000 rows x 2 columns]"
      ]
     },
     "execution_count": 91,
     "metadata": {},
     "output_type": "execute_result"
    }
   ],
   "source": [
    "users"
   ]
  },
  {
   "cell_type": "markdown",
   "id": "803a9139",
   "metadata": {},
   "source": [
    "When we observe this, we can find that the user count is 15000, but the we got only 7500 user recommendations only"
   ]
  },
  {
   "cell_type": "markdown",
   "id": "606aa288",
   "metadata": {},
   "source": [
    "So lets find the missing userids and recommend them the default top10 books"
   ]
  },
  {
   "cell_type": "code",
   "execution_count": 92,
   "id": "420f0fe6",
   "metadata": {},
   "outputs": [],
   "source": [
    "userids=list(map(str,users['USERID']))"
   ]
  },
  {
   "cell_type": "code",
   "execution_count": 93,
   "id": "07a43223",
   "metadata": {},
   "outputs": [],
   "source": [
    "purchasedf=pd.read_csv('Cleaned datasets/purchaseHistory.csv')"
   ]
  },
  {
   "cell_type": "code",
   "execution_count": 94,
   "id": "a6ee37b6",
   "metadata": {},
   "outputs": [
    {
     "data": {
      "text/html": [
       "<div>\n",
       "<style scoped>\n",
       "    .dataframe tbody tr th:only-of-type {\n",
       "        vertical-align: middle;\n",
       "    }\n",
       "\n",
       "    .dataframe tbody tr th {\n",
       "        vertical-align: top;\n",
       "    }\n",
       "\n",
       "    .dataframe thead th {\n",
       "        text-align: right;\n",
       "    }\n",
       "</style>\n",
       "<table border=\"1\" class=\"dataframe\">\n",
       "  <thead>\n",
       "    <tr style=\"text-align: right;\">\n",
       "      <th></th>\n",
       "      <th>BookID</th>\n",
       "      <th>UserID</th>\n",
       "      <th>SUBSTATE</th>\n",
       "    </tr>\n",
       "  </thead>\n",
       "  <tbody>\n",
       "    <tr>\n",
       "      <th>0</th>\n",
       "      <td>140361</td>\n",
       "      <td>608502</td>\n",
       "      <td>Santa Clara</td>\n",
       "    </tr>\n",
       "    <tr>\n",
       "      <th>1</th>\n",
       "      <td>118603</td>\n",
       "      <td>673204</td>\n",
       "      <td>San Diego</td>\n",
       "    </tr>\n",
       "    <tr>\n",
       "      <th>2</th>\n",
       "      <td>170523</td>\n",
       "      <td>641650</td>\n",
       "      <td>Oklahoma</td>\n",
       "    </tr>\n",
       "    <tr>\n",
       "      <th>3</th>\n",
       "      <td>111924</td>\n",
       "      <td>619531</td>\n",
       "      <td>Orlando</td>\n",
       "    </tr>\n",
       "    <tr>\n",
       "      <th>4</th>\n",
       "      <td>178056</td>\n",
       "      <td>628661</td>\n",
       "      <td>Orange</td>\n",
       "    </tr>\n",
       "    <tr>\n",
       "      <th>...</th>\n",
       "      <td>...</td>\n",
       "      <td>...</td>\n",
       "      <td>...</td>\n",
       "    </tr>\n",
       "    <tr>\n",
       "      <th>43067</th>\n",
       "      <td>178653</td>\n",
       "      <td>645595</td>\n",
       "      <td>Alabama</td>\n",
       "    </tr>\n",
       "    <tr>\n",
       "      <th>43068</th>\n",
       "      <td>168913</td>\n",
       "      <td>651099</td>\n",
       "      <td>New York</td>\n",
       "    </tr>\n",
       "    <tr>\n",
       "      <th>43069</th>\n",
       "      <td>156125</td>\n",
       "      <td>663991</td>\n",
       "      <td>Los Angeles</td>\n",
       "    </tr>\n",
       "    <tr>\n",
       "      <th>43070</th>\n",
       "      <td>157778</td>\n",
       "      <td>635431</td>\n",
       "      <td>San Bernardino</td>\n",
       "    </tr>\n",
       "    <tr>\n",
       "      <th>43071</th>\n",
       "      <td>170569</td>\n",
       "      <td>626576</td>\n",
       "      <td>New Mexico</td>\n",
       "    </tr>\n",
       "  </tbody>\n",
       "</table>\n",
       "<p>43072 rows × 3 columns</p>\n",
       "</div>"
      ],
      "text/plain": [
       "       BookID  UserID        SUBSTATE\n",
       "0      140361  608502     Santa Clara\n",
       "1      118603  673204       San Diego\n",
       "2      170523  641650        Oklahoma\n",
       "3      111924  619531         Orlando\n",
       "4      178056  628661          Orange\n",
       "...       ...     ...             ...\n",
       "43067  178653  645595         Alabama\n",
       "43068  168913  651099        New York\n",
       "43069  156125  663991     Los Angeles\n",
       "43070  157778  635431  San Bernardino\n",
       "43071  170569  626576      New Mexico\n",
       "\n",
       "[43072 rows x 3 columns]"
      ]
     },
     "execution_count": 94,
     "metadata": {},
     "output_type": "execute_result"
    }
   ],
   "source": [
    "purchasedf"
   ]
  },
  {
   "cell_type": "code",
   "execution_count": 95,
   "id": "3edb3932",
   "metadata": {},
   "outputs": [],
   "source": [
    "purchasedf['UserID']=purchasedf['UserID'].astype(str)"
   ]
  },
  {
   "cell_type": "code",
   "execution_count": 96,
   "id": "c57ca471",
   "metadata": {},
   "outputs": [
    {
     "data": {
      "text/html": [
       "<div>\n",
       "<style scoped>\n",
       "    .dataframe tbody tr th:only-of-type {\n",
       "        vertical-align: middle;\n",
       "    }\n",
       "\n",
       "    .dataframe tbody tr th {\n",
       "        vertical-align: top;\n",
       "    }\n",
       "\n",
       "    .dataframe thead th {\n",
       "        text-align: right;\n",
       "    }\n",
       "</style>\n",
       "<table border=\"1\" class=\"dataframe\">\n",
       "  <thead>\n",
       "    <tr style=\"text-align: right;\">\n",
       "      <th></th>\n",
       "      <th>UserID</th>\n",
       "      <th>SUBSTATE</th>\n",
       "    </tr>\n",
       "  </thead>\n",
       "  <tbody>\n",
       "    <tr>\n",
       "      <th>count</th>\n",
       "      <td>43072</td>\n",
       "      <td>43072</td>\n",
       "    </tr>\n",
       "    <tr>\n",
       "      <th>unique</th>\n",
       "      <td>10877</td>\n",
       "      <td>55</td>\n",
       "    </tr>\n",
       "    <tr>\n",
       "      <th>top</th>\n",
       "      <td>601424</td>\n",
       "      <td>San Diego</td>\n",
       "    </tr>\n",
       "    <tr>\n",
       "      <th>freq</th>\n",
       "      <td>52</td>\n",
       "      <td>6232</td>\n",
       "    </tr>\n",
       "  </tbody>\n",
       "</table>\n",
       "</div>"
      ],
      "text/plain": [
       "        UserID   SUBSTATE\n",
       "count    43072      43072\n",
       "unique   10877         55\n",
       "top     601424  San Diego\n",
       "freq        52       6232"
      ]
     },
     "execution_count": 96,
     "metadata": {},
     "output_type": "execute_result"
    }
   ],
   "source": [
    "purchasedf.describe(include='object')"
   ]
  },
  {
   "cell_type": "markdown",
   "id": "44c09d9f",
   "metadata": {},
   "source": [
    "we can observe that we have 10877 unique user's purchase history, so the remaining users data is not available"
   ]
  },
  {
   "cell_type": "code",
   "execution_count": 97,
   "id": "a4c07a17",
   "metadata": {},
   "outputs": [],
   "source": [
    "usersPurchased=purchasedf['UserID'].unique()"
   ]
  },
  {
   "cell_type": "code",
   "execution_count": 101,
   "id": "d08842c9",
   "metadata": {},
   "outputs": [],
   "source": [
    "recc=recommendations['UserID']"
   ]
  },
  {
   "cell_type": "markdown",
   "id": "3ff69046",
   "metadata": {},
   "source": [
    "**A method to find the missing users in the recommendations**"
   ]
  },
  {
   "cell_type": "code",
   "execution_count": 98,
   "id": "337b5443",
   "metadata": {},
   "outputs": [],
   "source": [
    "def diff(l1,l2):\n",
    "    return list(set(l1)-set(l2))+list(set(l2)-set(l1))"
   ]
  },
  {
   "cell_type": "code",
   "execution_count": 114,
   "id": "fe270395",
   "metadata": {},
   "outputs": [],
   "source": [
    "missing_users=diff(usersPurchased,userids)"
   ]
  },
  {
   "cell_type": "code",
   "execution_count": 110,
   "id": "92e093a0",
   "metadata": {},
   "outputs": [
    {
     "data": {
      "text/plain": [
       "4123"
      ]
     },
     "execution_count": 110,
     "metadata": {},
     "output_type": "execute_result"
    }
   ],
   "source": [
    "len(missing_users)"
   ]
  },
  {
   "cell_type": "code",
   "execution_count": 113,
   "id": "2e771dbc",
   "metadata": {},
   "outputs": [
    {
     "data": {
      "text/plain": [
       "3378"
      ]
     },
     "execution_count": 113,
     "metadata": {},
     "output_type": "execute_result"
    }
   ],
   "source": [
    "len()"
   ]
  },
  {
   "cell_type": "code",
   "execution_count": 115,
   "id": "0d99b84f",
   "metadata": {},
   "outputs": [],
   "source": [
    "missing_users.extend(diff(recc,usersPurchased))"
   ]
  },
  {
   "cell_type": "code",
   "execution_count": 116,
   "id": "0f03887c",
   "metadata": {},
   "outputs": [
    {
     "data": {
      "text/plain": [
       "7501"
      ]
     },
     "execution_count": 116,
     "metadata": {},
     "output_type": "execute_result"
    }
   ],
   "source": [
    "len(missing_users)"
   ]
  },
  {
   "cell_type": "markdown",
   "id": "6f201fca",
   "metadata": {},
   "source": [
    "Check for fault in the calculation"
   ]
  },
  {
   "cell_type": "code",
   "execution_count": 118,
   "id": "066d2000",
   "metadata": {},
   "outputs": [
    {
     "data": {
      "text/plain": [
       "[1, 2, 3, 4, 5, 6]"
      ]
     },
     "execution_count": 118,
     "metadata": {},
     "output_type": "execute_result"
    }
   ],
   "source": [
    "A1=[1,2,3]\n",
    "A2=[4,5,6]\n",
    "diff(A1,A2)"
   ]
  },
  {
   "cell_type": "markdown",
   "id": "6c46bb69",
   "metadata": {},
   "source": [
    "- From the above example we can see that we get the concatinated array if the two arrays are mutually exclusive\n",
    "- So we can use the same technique with the recommended users vs missing users to find if they are mutually exclusive"
   ]
  },
  {
   "cell_type": "code",
   "execution_count": 120,
   "id": "05f6a582",
   "metadata": {},
   "outputs": [
    {
     "name": "stdout",
     "output_type": "stream",
     "text": [
      "recommended users and missing users are mututally exclusive\n"
     ]
    }
   ],
   "source": [
    "if not (len(diff(recc,missing_users))-len(recc)==0):\n",
    "    print('recommended users and missing users are mututally exclusive')\n",
    "else:\n",
    "    print('There is fault in the process')"
   ]
  },
  {
   "cell_type": "code",
   "execution_count": 121,
   "id": "50757c34",
   "metadata": {},
   "outputs": [],
   "source": [
    "missing_users_rec=pd.DataFrame(pd.Series(missing_users),columns=['UserID'])"
   ]
  },
  {
   "cell_type": "code",
   "execution_count": 122,
   "id": "7faabc1b",
   "metadata": {},
   "outputs": [
    {
     "data": {
      "text/html": [
       "<div>\n",
       "<style scoped>\n",
       "    .dataframe tbody tr th:only-of-type {\n",
       "        vertical-align: middle;\n",
       "    }\n",
       "\n",
       "    .dataframe tbody tr th {\n",
       "        vertical-align: top;\n",
       "    }\n",
       "\n",
       "    .dataframe thead th {\n",
       "        text-align: right;\n",
       "    }\n",
       "</style>\n",
       "<table border=\"1\" class=\"dataframe\">\n",
       "  <thead>\n",
       "    <tr style=\"text-align: right;\">\n",
       "      <th></th>\n",
       "      <th>UserID</th>\n",
       "    </tr>\n",
       "  </thead>\n",
       "  <tbody>\n",
       "    <tr>\n",
       "      <th>0</th>\n",
       "      <td>646629</td>\n",
       "    </tr>\n",
       "    <tr>\n",
       "      <th>1</th>\n",
       "      <td>620050</td>\n",
       "    </tr>\n",
       "    <tr>\n",
       "      <th>2</th>\n",
       "      <td>629077</td>\n",
       "    </tr>\n",
       "    <tr>\n",
       "      <th>3</th>\n",
       "      <td>639886</td>\n",
       "    </tr>\n",
       "    <tr>\n",
       "      <th>4</th>\n",
       "      <td>668757</td>\n",
       "    </tr>\n",
       "    <tr>\n",
       "      <th>...</th>\n",
       "      <td>...</td>\n",
       "    </tr>\n",
       "    <tr>\n",
       "      <th>7496</th>\n",
       "      <td>627269</td>\n",
       "    </tr>\n",
       "    <tr>\n",
       "      <th>7497</th>\n",
       "      <td>618228</td>\n",
       "    </tr>\n",
       "    <tr>\n",
       "      <th>7498</th>\n",
       "      <td>619355</td>\n",
       "    </tr>\n",
       "    <tr>\n",
       "      <th>7499</th>\n",
       "      <td>601493</td>\n",
       "    </tr>\n",
       "    <tr>\n",
       "      <th>7500</th>\n",
       "      <td>652829</td>\n",
       "    </tr>\n",
       "  </tbody>\n",
       "</table>\n",
       "<p>7501 rows × 1 columns</p>\n",
       "</div>"
      ],
      "text/plain": [
       "      UserID\n",
       "0     646629\n",
       "1     620050\n",
       "2     629077\n",
       "3     639886\n",
       "4     668757\n",
       "...      ...\n",
       "7496  627269\n",
       "7497  618228\n",
       "7498  619355\n",
       "7499  601493\n",
       "7500  652829\n",
       "\n",
       "[7501 rows x 1 columns]"
      ]
     },
     "execution_count": 122,
     "metadata": {},
     "output_type": "execute_result"
    }
   ],
   "source": [
    "missing_users_rec"
   ]
  },
  {
   "cell_type": "code",
   "execution_count": 133,
   "id": "500c82ad",
   "metadata": {},
   "outputs": [
    {
     "data": {
      "text/plain": [
       "[119228,\n",
       " 150279,\n",
       " 171049,\n",
       " 174056,\n",
       " 156940,\n",
       " 149888,\n",
       " 141668,\n",
       " 149428,\n",
       " 168295,\n",
       " 101133]"
      ]
     },
     "execution_count": 133,
     "metadata": {},
     "output_type": "execute_result"
    }
   ],
   "source": [
    "Top10Default"
   ]
  },
  {
   "cell_type": "code",
   "execution_count": 134,
   "id": "00334109",
   "metadata": {},
   "outputs": [],
   "source": [
    "Top10DefaultString=','.join(map(str, Top10Default))"
   ]
  },
  {
   "cell_type": "code",
   "execution_count": 135,
   "id": "2c8e8417",
   "metadata": {},
   "outputs": [
    {
     "data": {
      "text/plain": [
       "'119228,150279,171049,174056,156940,149888,141668,149428,168295,101133'"
      ]
     },
     "execution_count": 135,
     "metadata": {},
     "output_type": "execute_result"
    }
   ],
   "source": [
    "Top10DefaultString"
   ]
  },
  {
   "cell_type": "code",
   "execution_count": 136,
   "id": "cae93554",
   "metadata": {},
   "outputs": [],
   "source": [
    "missing_users_rec['Recommendations']=Top10DefaultString"
   ]
  },
  {
   "cell_type": "code",
   "execution_count": 137,
   "id": "27210664",
   "metadata": {},
   "outputs": [
    {
     "data": {
      "text/html": [
       "<div>\n",
       "<style scoped>\n",
       "    .dataframe tbody tr th:only-of-type {\n",
       "        vertical-align: middle;\n",
       "    }\n",
       "\n",
       "    .dataframe tbody tr th {\n",
       "        vertical-align: top;\n",
       "    }\n",
       "\n",
       "    .dataframe thead th {\n",
       "        text-align: right;\n",
       "    }\n",
       "</style>\n",
       "<table border=\"1\" class=\"dataframe\">\n",
       "  <thead>\n",
       "    <tr style=\"text-align: right;\">\n",
       "      <th></th>\n",
       "      <th>UserID</th>\n",
       "      <th>Recommendations</th>\n",
       "    </tr>\n",
       "  </thead>\n",
       "  <tbody>\n",
       "    <tr>\n",
       "      <th>0</th>\n",
       "      <td>646629</td>\n",
       "      <td>119228,150279,171049,174056,156940,149888,1416...</td>\n",
       "    </tr>\n",
       "    <tr>\n",
       "      <th>1</th>\n",
       "      <td>620050</td>\n",
       "      <td>119228,150279,171049,174056,156940,149888,1416...</td>\n",
       "    </tr>\n",
       "    <tr>\n",
       "      <th>2</th>\n",
       "      <td>629077</td>\n",
       "      <td>119228,150279,171049,174056,156940,149888,1416...</td>\n",
       "    </tr>\n",
       "    <tr>\n",
       "      <th>3</th>\n",
       "      <td>639886</td>\n",
       "      <td>119228,150279,171049,174056,156940,149888,1416...</td>\n",
       "    </tr>\n",
       "    <tr>\n",
       "      <th>4</th>\n",
       "      <td>668757</td>\n",
       "      <td>119228,150279,171049,174056,156940,149888,1416...</td>\n",
       "    </tr>\n",
       "  </tbody>\n",
       "</table>\n",
       "</div>"
      ],
      "text/plain": [
       "   UserID                                    Recommendations\n",
       "0  646629  119228,150279,171049,174056,156940,149888,1416...\n",
       "1  620050  119228,150279,171049,174056,156940,149888,1416...\n",
       "2  629077  119228,150279,171049,174056,156940,149888,1416...\n",
       "3  639886  119228,150279,171049,174056,156940,149888,1416...\n",
       "4  668757  119228,150279,171049,174056,156940,149888,1416..."
      ]
     },
     "execution_count": 137,
     "metadata": {},
     "output_type": "execute_result"
    }
   ],
   "source": [
    "missing_users_rec.head()"
   ]
  },
  {
   "cell_type": "code",
   "execution_count": 138,
   "id": "b11e0946",
   "metadata": {},
   "outputs": [],
   "source": [
    "missing_users_rec[['1','2','3','4','5','6','7','8','9','10']] = missing_users_rec['Recommendations'].str.split(',',expand=True)"
   ]
  },
  {
   "cell_type": "code",
   "execution_count": 139,
   "id": "d3a19bcd",
   "metadata": {},
   "outputs": [],
   "source": [
    "missing_users_rec.drop('Recommendations',axis=1,inplace=True)"
   ]
  },
  {
   "cell_type": "code",
   "execution_count": 140,
   "id": "783e1b13",
   "metadata": {},
   "outputs": [
    {
     "data": {
      "text/html": [
       "<div>\n",
       "<style scoped>\n",
       "    .dataframe tbody tr th:only-of-type {\n",
       "        vertical-align: middle;\n",
       "    }\n",
       "\n",
       "    .dataframe tbody tr th {\n",
       "        vertical-align: top;\n",
       "    }\n",
       "\n",
       "    .dataframe thead th {\n",
       "        text-align: right;\n",
       "    }\n",
       "</style>\n",
       "<table border=\"1\" class=\"dataframe\">\n",
       "  <thead>\n",
       "    <tr style=\"text-align: right;\">\n",
       "      <th></th>\n",
       "      <th>UserID</th>\n",
       "      <th>1</th>\n",
       "      <th>2</th>\n",
       "      <th>3</th>\n",
       "      <th>4</th>\n",
       "      <th>5</th>\n",
       "      <th>6</th>\n",
       "      <th>7</th>\n",
       "      <th>8</th>\n",
       "      <th>9</th>\n",
       "      <th>10</th>\n",
       "    </tr>\n",
       "  </thead>\n",
       "  <tbody>\n",
       "    <tr>\n",
       "      <th>0</th>\n",
       "      <td>646629</td>\n",
       "      <td>119228</td>\n",
       "      <td>150279</td>\n",
       "      <td>171049</td>\n",
       "      <td>174056</td>\n",
       "      <td>156940</td>\n",
       "      <td>149888</td>\n",
       "      <td>141668</td>\n",
       "      <td>149428</td>\n",
       "      <td>168295</td>\n",
       "      <td>101133</td>\n",
       "    </tr>\n",
       "    <tr>\n",
       "      <th>1</th>\n",
       "      <td>620050</td>\n",
       "      <td>119228</td>\n",
       "      <td>150279</td>\n",
       "      <td>171049</td>\n",
       "      <td>174056</td>\n",
       "      <td>156940</td>\n",
       "      <td>149888</td>\n",
       "      <td>141668</td>\n",
       "      <td>149428</td>\n",
       "      <td>168295</td>\n",
       "      <td>101133</td>\n",
       "    </tr>\n",
       "    <tr>\n",
       "      <th>2</th>\n",
       "      <td>629077</td>\n",
       "      <td>119228</td>\n",
       "      <td>150279</td>\n",
       "      <td>171049</td>\n",
       "      <td>174056</td>\n",
       "      <td>156940</td>\n",
       "      <td>149888</td>\n",
       "      <td>141668</td>\n",
       "      <td>149428</td>\n",
       "      <td>168295</td>\n",
       "      <td>101133</td>\n",
       "    </tr>\n",
       "    <tr>\n",
       "      <th>3</th>\n",
       "      <td>639886</td>\n",
       "      <td>119228</td>\n",
       "      <td>150279</td>\n",
       "      <td>171049</td>\n",
       "      <td>174056</td>\n",
       "      <td>156940</td>\n",
       "      <td>149888</td>\n",
       "      <td>141668</td>\n",
       "      <td>149428</td>\n",
       "      <td>168295</td>\n",
       "      <td>101133</td>\n",
       "    </tr>\n",
       "    <tr>\n",
       "      <th>4</th>\n",
       "      <td>668757</td>\n",
       "      <td>119228</td>\n",
       "      <td>150279</td>\n",
       "      <td>171049</td>\n",
       "      <td>174056</td>\n",
       "      <td>156940</td>\n",
       "      <td>149888</td>\n",
       "      <td>141668</td>\n",
       "      <td>149428</td>\n",
       "      <td>168295</td>\n",
       "      <td>101133</td>\n",
       "    </tr>\n",
       "    <tr>\n",
       "      <th>...</th>\n",
       "      <td>...</td>\n",
       "      <td>...</td>\n",
       "      <td>...</td>\n",
       "      <td>...</td>\n",
       "      <td>...</td>\n",
       "      <td>...</td>\n",
       "      <td>...</td>\n",
       "      <td>...</td>\n",
       "      <td>...</td>\n",
       "      <td>...</td>\n",
       "      <td>...</td>\n",
       "    </tr>\n",
       "    <tr>\n",
       "      <th>7496</th>\n",
       "      <td>627269</td>\n",
       "      <td>119228</td>\n",
       "      <td>150279</td>\n",
       "      <td>171049</td>\n",
       "      <td>174056</td>\n",
       "      <td>156940</td>\n",
       "      <td>149888</td>\n",
       "      <td>141668</td>\n",
       "      <td>149428</td>\n",
       "      <td>168295</td>\n",
       "      <td>101133</td>\n",
       "    </tr>\n",
       "    <tr>\n",
       "      <th>7497</th>\n",
       "      <td>618228</td>\n",
       "      <td>119228</td>\n",
       "      <td>150279</td>\n",
       "      <td>171049</td>\n",
       "      <td>174056</td>\n",
       "      <td>156940</td>\n",
       "      <td>149888</td>\n",
       "      <td>141668</td>\n",
       "      <td>149428</td>\n",
       "      <td>168295</td>\n",
       "      <td>101133</td>\n",
       "    </tr>\n",
       "    <tr>\n",
       "      <th>7498</th>\n",
       "      <td>619355</td>\n",
       "      <td>119228</td>\n",
       "      <td>150279</td>\n",
       "      <td>171049</td>\n",
       "      <td>174056</td>\n",
       "      <td>156940</td>\n",
       "      <td>149888</td>\n",
       "      <td>141668</td>\n",
       "      <td>149428</td>\n",
       "      <td>168295</td>\n",
       "      <td>101133</td>\n",
       "    </tr>\n",
       "    <tr>\n",
       "      <th>7499</th>\n",
       "      <td>601493</td>\n",
       "      <td>119228</td>\n",
       "      <td>150279</td>\n",
       "      <td>171049</td>\n",
       "      <td>174056</td>\n",
       "      <td>156940</td>\n",
       "      <td>149888</td>\n",
       "      <td>141668</td>\n",
       "      <td>149428</td>\n",
       "      <td>168295</td>\n",
       "      <td>101133</td>\n",
       "    </tr>\n",
       "    <tr>\n",
       "      <th>7500</th>\n",
       "      <td>652829</td>\n",
       "      <td>119228</td>\n",
       "      <td>150279</td>\n",
       "      <td>171049</td>\n",
       "      <td>174056</td>\n",
       "      <td>156940</td>\n",
       "      <td>149888</td>\n",
       "      <td>141668</td>\n",
       "      <td>149428</td>\n",
       "      <td>168295</td>\n",
       "      <td>101133</td>\n",
       "    </tr>\n",
       "  </tbody>\n",
       "</table>\n",
       "<p>7501 rows × 11 columns</p>\n",
       "</div>"
      ],
      "text/plain": [
       "      UserID       1       2       3       4       5       6       7       8  \\\n",
       "0     646629  119228  150279  171049  174056  156940  149888  141668  149428   \n",
       "1     620050  119228  150279  171049  174056  156940  149888  141668  149428   \n",
       "2     629077  119228  150279  171049  174056  156940  149888  141668  149428   \n",
       "3     639886  119228  150279  171049  174056  156940  149888  141668  149428   \n",
       "4     668757  119228  150279  171049  174056  156940  149888  141668  149428   \n",
       "...      ...     ...     ...     ...     ...     ...     ...     ...     ...   \n",
       "7496  627269  119228  150279  171049  174056  156940  149888  141668  149428   \n",
       "7497  618228  119228  150279  171049  174056  156940  149888  141668  149428   \n",
       "7498  619355  119228  150279  171049  174056  156940  149888  141668  149428   \n",
       "7499  601493  119228  150279  171049  174056  156940  149888  141668  149428   \n",
       "7500  652829  119228  150279  171049  174056  156940  149888  141668  149428   \n",
       "\n",
       "           9      10  \n",
       "0     168295  101133  \n",
       "1     168295  101133  \n",
       "2     168295  101133  \n",
       "3     168295  101133  \n",
       "4     168295  101133  \n",
       "...      ...     ...  \n",
       "7496  168295  101133  \n",
       "7497  168295  101133  \n",
       "7498  168295  101133  \n",
       "7499  168295  101133  \n",
       "7500  168295  101133  \n",
       "\n",
       "[7501 rows x 11 columns]"
      ]
     },
     "execution_count": 140,
     "metadata": {},
     "output_type": "execute_result"
    }
   ],
   "source": [
    "missing_users_rec"
   ]
  },
  {
   "cell_type": "code",
   "execution_count": 141,
   "id": "ae12538a",
   "metadata": {},
   "outputs": [],
   "source": [
    "recommendations=recommendations.append(missing_users_rec)"
   ]
  },
  {
   "cell_type": "code",
   "execution_count": 142,
   "id": "623e7685",
   "metadata": {},
   "outputs": [],
   "source": [
    "recommendations.reset_index(drop=\"index\",inplace=True)"
   ]
  },
  {
   "cell_type": "code",
   "execution_count": 143,
   "id": "113e68ad",
   "metadata": {},
   "outputs": [
    {
     "data": {
      "text/html": [
       "<div>\n",
       "<style scoped>\n",
       "    .dataframe tbody tr th:only-of-type {\n",
       "        vertical-align: middle;\n",
       "    }\n",
       "\n",
       "    .dataframe tbody tr th {\n",
       "        vertical-align: top;\n",
       "    }\n",
       "\n",
       "    .dataframe thead th {\n",
       "        text-align: right;\n",
       "    }\n",
       "</style>\n",
       "<table border=\"1\" class=\"dataframe\">\n",
       "  <thead>\n",
       "    <tr style=\"text-align: right;\">\n",
       "      <th></th>\n",
       "      <th>UserID</th>\n",
       "      <th>1</th>\n",
       "      <th>2</th>\n",
       "      <th>3</th>\n",
       "      <th>4</th>\n",
       "      <th>5</th>\n",
       "      <th>6</th>\n",
       "      <th>7</th>\n",
       "      <th>8</th>\n",
       "      <th>9</th>\n",
       "      <th>10</th>\n",
       "    </tr>\n",
       "  </thead>\n",
       "  <tbody>\n",
       "    <tr>\n",
       "      <th>0</th>\n",
       "      <td>608502</td>\n",
       "      <td>107517</td>\n",
       "      <td>135185</td>\n",
       "      <td>178940</td>\n",
       "      <td>158208</td>\n",
       "      <td>103259</td>\n",
       "      <td>128314</td>\n",
       "      <td>163566</td>\n",
       "      <td>114334</td>\n",
       "      <td>159439</td>\n",
       "      <td>135898</td>\n",
       "    </tr>\n",
       "    <tr>\n",
       "      <th>1</th>\n",
       "      <td>641650</td>\n",
       "      <td>135185</td>\n",
       "      <td>179241</td>\n",
       "      <td>177188</td>\n",
       "      <td>167731</td>\n",
       "      <td>145619</td>\n",
       "      <td>114643</td>\n",
       "      <td>103259</td>\n",
       "      <td>179744</td>\n",
       "      <td>171027</td>\n",
       "      <td>163566</td>\n",
       "    </tr>\n",
       "    <tr>\n",
       "      <th>2</th>\n",
       "      <td>619531</td>\n",
       "      <td>145345</td>\n",
       "      <td>129371</td>\n",
       "      <td>141618</td>\n",
       "      <td>110105</td>\n",
       "      <td>169704</td>\n",
       "      <td>171644</td>\n",
       "      <td>121705</td>\n",
       "      <td>170644</td>\n",
       "      <td>159600</td>\n",
       "      <td>126066</td>\n",
       "    </tr>\n",
       "    <tr>\n",
       "      <th>3</th>\n",
       "      <td>628661</td>\n",
       "      <td>129769</td>\n",
       "      <td>105425</td>\n",
       "      <td>172969</td>\n",
       "      <td>118410</td>\n",
       "      <td>119688</td>\n",
       "      <td>118204</td>\n",
       "      <td>142785</td>\n",
       "      <td>166469</td>\n",
       "      <td>104554</td>\n",
       "      <td>174897</td>\n",
       "    </tr>\n",
       "    <tr>\n",
       "      <th>4</th>\n",
       "      <td>622287</td>\n",
       "      <td>100899</td>\n",
       "      <td>160887</td>\n",
       "      <td>164329</td>\n",
       "      <td>144974</td>\n",
       "      <td>139800</td>\n",
       "      <td>152007</td>\n",
       "      <td>157955</td>\n",
       "      <td>178793</td>\n",
       "      <td>109725</td>\n",
       "      <td>144902</td>\n",
       "    </tr>\n",
       "  </tbody>\n",
       "</table>\n",
       "</div>"
      ],
      "text/plain": [
       "   UserID       1       2       3       4       5       6       7       8  \\\n",
       "0  608502  107517  135185  178940  158208  103259  128314  163566  114334   \n",
       "1  641650  135185  179241  177188  167731  145619  114643  103259  179744   \n",
       "2  619531  145345  129371  141618  110105  169704  171644  121705  170644   \n",
       "3  628661  129769  105425  172969  118410  119688  118204  142785  166469   \n",
       "4  622287  100899  160887  164329  144974  139800  152007  157955  178793   \n",
       "\n",
       "        9      10  \n",
       "0  159439  135898  \n",
       "1  171027  163566  \n",
       "2  159600  126066  \n",
       "3  104554  174897  \n",
       "4  109725  144902  "
      ]
     },
     "execution_count": 143,
     "metadata": {},
     "output_type": "execute_result"
    }
   ],
   "source": [
    "recommendations.head()"
   ]
  },
  {
   "cell_type": "code",
   "execution_count": 144,
   "id": "42c511a6",
   "metadata": {},
   "outputs": [],
   "source": [
    "q='select * from recommendations order by UserID'"
   ]
  },
  {
   "cell_type": "code",
   "execution_count": 145,
   "id": "fe8ef73c",
   "metadata": {},
   "outputs": [],
   "source": [
    "recommendations=ps.sqldf(q)"
   ]
  },
  {
   "cell_type": "code",
   "execution_count": 146,
   "id": "c4b6f42c",
   "metadata": {},
   "outputs": [
    {
     "data": {
      "text/html": [
       "<div>\n",
       "<style scoped>\n",
       "    .dataframe tbody tr th:only-of-type {\n",
       "        vertical-align: middle;\n",
       "    }\n",
       "\n",
       "    .dataframe tbody tr th {\n",
       "        vertical-align: top;\n",
       "    }\n",
       "\n",
       "    .dataframe thead th {\n",
       "        text-align: right;\n",
       "    }\n",
       "</style>\n",
       "<table border=\"1\" class=\"dataframe\">\n",
       "  <thead>\n",
       "    <tr style=\"text-align: right;\">\n",
       "      <th></th>\n",
       "      <th>UserID</th>\n",
       "      <th>1</th>\n",
       "      <th>2</th>\n",
       "      <th>3</th>\n",
       "      <th>4</th>\n",
       "      <th>5</th>\n",
       "      <th>6</th>\n",
       "      <th>7</th>\n",
       "      <th>8</th>\n",
       "      <th>9</th>\n",
       "      <th>10</th>\n",
       "    </tr>\n",
       "  </thead>\n",
       "  <tbody>\n",
       "    <tr>\n",
       "      <th>0</th>\n",
       "      <td>600003</td>\n",
       "      <td>119228</td>\n",
       "      <td>150279</td>\n",
       "      <td>171049</td>\n",
       "      <td>174056</td>\n",
       "      <td>156940</td>\n",
       "      <td>149888</td>\n",
       "      <td>141668</td>\n",
       "      <td>149428</td>\n",
       "      <td>168295</td>\n",
       "      <td>101133</td>\n",
       "    </tr>\n",
       "    <tr>\n",
       "      <th>1</th>\n",
       "      <td>600008</td>\n",
       "      <td>139926</td>\n",
       "      <td>124775</td>\n",
       "      <td>173979</td>\n",
       "      <td>137665</td>\n",
       "      <td>117851</td>\n",
       "      <td>173926</td>\n",
       "      <td>169633</td>\n",
       "      <td>153927</td>\n",
       "      <td>107533</td>\n",
       "      <td>144648</td>\n",
       "    </tr>\n",
       "    <tr>\n",
       "      <th>2</th>\n",
       "      <td>600011</td>\n",
       "      <td>175781</td>\n",
       "      <td>102067</td>\n",
       "      <td>177642</td>\n",
       "      <td>172597</td>\n",
       "      <td>114660</td>\n",
       "      <td>143722</td>\n",
       "      <td>101912</td>\n",
       "      <td>148729</td>\n",
       "      <td>136986</td>\n",
       "      <td>179020</td>\n",
       "    </tr>\n",
       "    <tr>\n",
       "      <th>3</th>\n",
       "      <td>600017</td>\n",
       "      <td>119228</td>\n",
       "      <td>150279</td>\n",
       "      <td>171049</td>\n",
       "      <td>174056</td>\n",
       "      <td>156940</td>\n",
       "      <td>149888</td>\n",
       "      <td>141668</td>\n",
       "      <td>149428</td>\n",
       "      <td>168295</td>\n",
       "      <td>101133</td>\n",
       "    </tr>\n",
       "    <tr>\n",
       "      <th>4</th>\n",
       "      <td>600020</td>\n",
       "      <td>129177</td>\n",
       "      <td>160284</td>\n",
       "      <td>170462</td>\n",
       "      <td>130931</td>\n",
       "      <td>139926</td>\n",
       "      <td>114112</td>\n",
       "      <td>153115</td>\n",
       "      <td>147460</td>\n",
       "      <td>101974</td>\n",
       "      <td>155183</td>\n",
       "    </tr>\n",
       "    <tr>\n",
       "      <th>...</th>\n",
       "      <td>...</td>\n",
       "      <td>...</td>\n",
       "      <td>...</td>\n",
       "      <td>...</td>\n",
       "      <td>...</td>\n",
       "      <td>...</td>\n",
       "      <td>...</td>\n",
       "      <td>...</td>\n",
       "      <td>...</td>\n",
       "      <td>...</td>\n",
       "      <td>...</td>\n",
       "    </tr>\n",
       "    <tr>\n",
       "      <th>14995</th>\n",
       "      <td>674975</td>\n",
       "      <td>119228</td>\n",
       "      <td>150279</td>\n",
       "      <td>171049</td>\n",
       "      <td>174056</td>\n",
       "      <td>156940</td>\n",
       "      <td>149888</td>\n",
       "      <td>141668</td>\n",
       "      <td>149428</td>\n",
       "      <td>168295</td>\n",
       "      <td>101133</td>\n",
       "    </tr>\n",
       "    <tr>\n",
       "      <th>14996</th>\n",
       "      <td>674984</td>\n",
       "      <td>135185</td>\n",
       "      <td>103259</td>\n",
       "      <td>145619</td>\n",
       "      <td>157261</td>\n",
       "      <td>125711</td>\n",
       "      <td>134518</td>\n",
       "      <td>166626</td>\n",
       "      <td>150780</td>\n",
       "      <td>167731</td>\n",
       "      <td>154123</td>\n",
       "    </tr>\n",
       "    <tr>\n",
       "      <th>14997</th>\n",
       "      <td>674986</td>\n",
       "      <td>155103</td>\n",
       "      <td>178107</td>\n",
       "      <td>129279</td>\n",
       "      <td>154125</td>\n",
       "      <td>170696</td>\n",
       "      <td>154696</td>\n",
       "      <td>117532</td>\n",
       "      <td>102479</td>\n",
       "      <td>158752</td>\n",
       "      <td>159284</td>\n",
       "    </tr>\n",
       "    <tr>\n",
       "      <th>14998</th>\n",
       "      <td>674992</td>\n",
       "      <td>119228</td>\n",
       "      <td>150279</td>\n",
       "      <td>171049</td>\n",
       "      <td>174056</td>\n",
       "      <td>156940</td>\n",
       "      <td>149888</td>\n",
       "      <td>141668</td>\n",
       "      <td>149428</td>\n",
       "      <td>168295</td>\n",
       "      <td>101133</td>\n",
       "    </tr>\n",
       "    <tr>\n",
       "      <th>14999</th>\n",
       "      <td>674999</td>\n",
       "      <td>119228</td>\n",
       "      <td>150279</td>\n",
       "      <td>171049</td>\n",
       "      <td>174056</td>\n",
       "      <td>156940</td>\n",
       "      <td>149888</td>\n",
       "      <td>141668</td>\n",
       "      <td>149428</td>\n",
       "      <td>168295</td>\n",
       "      <td>101133</td>\n",
       "    </tr>\n",
       "  </tbody>\n",
       "</table>\n",
       "<p>15000 rows × 11 columns</p>\n",
       "</div>"
      ],
      "text/plain": [
       "       UserID       1       2       3       4       5       6       7       8  \\\n",
       "0      600003  119228  150279  171049  174056  156940  149888  141668  149428   \n",
       "1      600008  139926  124775  173979  137665  117851  173926  169633  153927   \n",
       "2      600011  175781  102067  177642  172597  114660  143722  101912  148729   \n",
       "3      600017  119228  150279  171049  174056  156940  149888  141668  149428   \n",
       "4      600020  129177  160284  170462  130931  139926  114112  153115  147460   \n",
       "...       ...     ...     ...     ...     ...     ...     ...     ...     ...   \n",
       "14995  674975  119228  150279  171049  174056  156940  149888  141668  149428   \n",
       "14996  674984  135185  103259  145619  157261  125711  134518  166626  150780   \n",
       "14997  674986  155103  178107  129279  154125  170696  154696  117532  102479   \n",
       "14998  674992  119228  150279  171049  174056  156940  149888  141668  149428   \n",
       "14999  674999  119228  150279  171049  174056  156940  149888  141668  149428   \n",
       "\n",
       "            9      10  \n",
       "0      168295  101133  \n",
       "1      107533  144648  \n",
       "2      136986  179020  \n",
       "3      168295  101133  \n",
       "4      101974  155183  \n",
       "...       ...     ...  \n",
       "14995  168295  101133  \n",
       "14996  167731  154123  \n",
       "14997  158752  159284  \n",
       "14998  168295  101133  \n",
       "14999  168295  101133  \n",
       "\n",
       "[15000 rows x 11 columns]"
      ]
     },
     "execution_count": 146,
     "metadata": {},
     "output_type": "execute_result"
    }
   ],
   "source": [
    "recommendations"
   ]
  },
  {
   "cell_type": "code",
   "execution_count": 147,
   "id": "9af28efe",
   "metadata": {},
   "outputs": [
    {
     "data": {
      "text/html": [
       "<div>\n",
       "<style scoped>\n",
       "    .dataframe tbody tr th:only-of-type {\n",
       "        vertical-align: middle;\n",
       "    }\n",
       "\n",
       "    .dataframe tbody tr th {\n",
       "        vertical-align: top;\n",
       "    }\n",
       "\n",
       "    .dataframe thead th {\n",
       "        text-align: right;\n",
       "    }\n",
       "</style>\n",
       "<table border=\"1\" class=\"dataframe\">\n",
       "  <thead>\n",
       "    <tr style=\"text-align: right;\">\n",
       "      <th></th>\n",
       "      <th>UserID</th>\n",
       "      <th>1</th>\n",
       "      <th>2</th>\n",
       "      <th>3</th>\n",
       "      <th>4</th>\n",
       "      <th>5</th>\n",
       "      <th>6</th>\n",
       "      <th>7</th>\n",
       "      <th>8</th>\n",
       "      <th>9</th>\n",
       "      <th>10</th>\n",
       "    </tr>\n",
       "  </thead>\n",
       "  <tbody>\n",
       "    <tr>\n",
       "      <th>count</th>\n",
       "      <td>15000</td>\n",
       "      <td>15000</td>\n",
       "      <td>15000</td>\n",
       "      <td>15000</td>\n",
       "      <td>15000</td>\n",
       "      <td>15000</td>\n",
       "      <td>15000</td>\n",
       "      <td>15000</td>\n",
       "      <td>15000</td>\n",
       "      <td>15000</td>\n",
       "      <td>15000</td>\n",
       "    </tr>\n",
       "    <tr>\n",
       "      <th>unique</th>\n",
       "      <td>15000</td>\n",
       "      <td>747</td>\n",
       "      <td>925</td>\n",
       "      <td>1004</td>\n",
       "      <td>1043</td>\n",
       "      <td>1111</td>\n",
       "      <td>1104</td>\n",
       "      <td>1150</td>\n",
       "      <td>1160</td>\n",
       "      <td>1157</td>\n",
       "      <td>1176</td>\n",
       "    </tr>\n",
       "    <tr>\n",
       "      <th>top</th>\n",
       "      <td>600003</td>\n",
       "      <td>119228</td>\n",
       "      <td>150279</td>\n",
       "      <td>171049</td>\n",
       "      <td>174056</td>\n",
       "      <td>156940</td>\n",
       "      <td>149888</td>\n",
       "      <td>141668</td>\n",
       "      <td>149428</td>\n",
       "      <td>168295</td>\n",
       "      <td>101133</td>\n",
       "    </tr>\n",
       "    <tr>\n",
       "      <th>freq</th>\n",
       "      <td>1</td>\n",
       "      <td>7544</td>\n",
       "      <td>7513</td>\n",
       "      <td>7502</td>\n",
       "      <td>7503</td>\n",
       "      <td>7502</td>\n",
       "      <td>7502</td>\n",
       "      <td>7505</td>\n",
       "      <td>7504</td>\n",
       "      <td>7505</td>\n",
       "      <td>7505</td>\n",
       "    </tr>\n",
       "  </tbody>\n",
       "</table>\n",
       "</div>"
      ],
      "text/plain": [
       "        UserID       1       2       3       4       5       6       7  \\\n",
       "count    15000   15000   15000   15000   15000   15000   15000   15000   \n",
       "unique   15000     747     925    1004    1043    1111    1104    1150   \n",
       "top     600003  119228  150279  171049  174056  156940  149888  141668   \n",
       "freq         1    7544    7513    7502    7503    7502    7502    7505   \n",
       "\n",
       "             8       9      10  \n",
       "count    15000   15000   15000  \n",
       "unique    1160    1157    1176  \n",
       "top     149428  168295  101133  \n",
       "freq      7504    7505    7505  "
      ]
     },
     "execution_count": 147,
     "metadata": {},
     "output_type": "execute_result"
    }
   ],
   "source": [
    "recommendations.describe()"
   ]
  },
  {
   "cell_type": "code",
   "execution_count": 148,
   "id": "ffa5836b",
   "metadata": {},
   "outputs": [],
   "source": [
    "recommendations.to_csv('Cleaned datasets/SUBMISSION.csv',index=False)"
   ]
  },
  {
   "cell_type": "markdown",
   "id": "23b6ba33",
   "metadata": {},
   "source": [
    "- Advantage\n",
    "    1. Model doesn’t need data of other users since recommendations are specific to a single user.\n",
    "    2. It makes it easier to scale to a large number of users.\n",
    "    3. The model can Capture the specific Interests of the user and can recommend items that very few other users are interested in.\n",
    "- Disadvantage\n",
    "    1. Feature representation of items is hand-engineered to some extent, this tech requires a lot of domain knowledge.\n",
    "    2. The model can only make recommendations based on the existing interest of a user. In other words, the model has limited ability to expand on the user’s existing interests."
   ]
  }
 ],
 "metadata": {
  "kernelspec": {
   "display_name": "Python 3 (ipykernel)",
   "language": "python",
   "name": "python3"
  },
  "language_info": {
   "codemirror_mode": {
    "name": "ipython",
    "version": 3
   },
   "file_extension": ".py",
   "mimetype": "text/x-python",
   "name": "python",
   "nbconvert_exporter": "python",
   "pygments_lexer": "ipython3",
   "version": "3.9.7"
  }
 },
 "nbformat": 4,
 "nbformat_minor": 5
}
