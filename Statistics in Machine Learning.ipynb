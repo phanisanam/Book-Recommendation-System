{
 "cells": [
  {
   "cell_type": "markdown",
   "id": "8105325d",
   "metadata": {},
   "source": [
    "ML model is just a statistical representation  of a real world process"
   ]
  },
  {
   "cell_type": "markdown",
   "id": "f2fcef78",
   "metadata": {},
   "source": [
    "Basically columns are 2 types:\n",
    "\n",
    "    1. Feature\n",
    "    \n",
    "    2. Target"
   ]
  },
  {
   "cell_type": "markdown",
   "id": "6cfdb083",
   "metadata": {},
   "source": [
    "Feature columns:- That helps me to predict.\n",
    "\n",
    "Target columns:-  That i want to predict"
   ]
  },
  {
   "cell_type": "markdown",
   "id": "8869f19a",
   "metadata": {},
   "source": [
    "# Statistics are 2 types:\n",
    "\n",
    "# 1. Descriptive Statistics\n",
    "\n",
    "# 2. Inferential Statistics"
   ]
  },
  {
   "cell_type": "markdown",
   "id": "b50ccb22",
   "metadata": {},
   "source": [
    "# descriptive Statistics (describing the data using a single number)"
   ]
  },
  {
   "cell_type": "markdown",
   "id": "40296b30",
   "metadata": {},
   "source": [
    "Aggregation:\n",
    "\n",
    "  1.Mean\n",
    "  \n",
    "  2.Median\n",
    "  \n",
    "  3.Mode\n",
    "  \n",
    "Spread of Data:\n",
    "\n",
    "  1.Variance\n",
    "  \n",
    "  2.Standard deviation\n",
    "  \n",
    "Percentile"
   ]
  },
  {
   "cell_type": "markdown",
   "id": "1c5cf88d",
   "metadata": {},
   "source": [
    "# 2. Inferential Statistics (trying to understand the entire data by using a subset of same data"
   ]
  },
  {
   "cell_type": "markdown",
   "id": "eb1b7eb1",
   "metadata": {},
   "source": [
    "Note: It is very important to understand how the values in the data are distributed, because depending on how the values in data are distributed, the approach of inferential statistics will be different "
   ]
  },
  {
   "cell_type": "markdown",
   "id": "9a1e8c47",
   "metadata": {},
   "source": [
    "# machine learning models are 2 types\n"
   ]
  },
  {
   "cell_type": "markdown",
   "id": "97df871c",
   "metadata": {},
   "source": [
    "1.supervised learning model\n",
    "\n",
    "\n",
    "2.unsupervised learning model"
   ]
  },
  {
   "cell_type": "markdown",
   "id": "ee7077dd",
   "metadata": {},
   "source": [
    "in supervised learning model the data contains both feature and target columns  "
   ]
  },
  {
   "cell_type": "markdown",
   "id": "12ffa422",
   "metadata": {},
   "source": [
    "In unsupervised learning models the data contains only feature columns"
   ]
  },
  {
   "cell_type": "markdown",
   "id": "7ecd3cab",
   "metadata": {},
   "source": [
    "# Supervised learning model"
   ]
  },
  {
   "cell_type": "markdown",
   "id": "85b0ef14",
   "metadata": {},
   "source": [
    "In supervised learning model it contains 2 types:\n",
    "\n",
    "1.classification model\n",
    "\n",
    "2.regression model"
   ]
  },
  {
   "cell_type": "markdown",
   "id": "a0ee37c7",
   "metadata": {},
   "source": [
    "In classification model the target column contains finite set of possibilities.\n",
    "\n",
    "In Regression model the target column contains infinite set of possibilities."
   ]
  },
  {
   "cell_type": "markdown",
   "id": "a74d668b",
   "metadata": {},
   "source": [
    "# statistics for machine learning"
   ]
  },
  {
   "cell_type": "markdown",
   "id": "9674e924",
   "metadata": {},
   "source": [
    "# descriptive statistics"
   ]
  },
  {
   "cell_type": "markdown",
   "id": "a93a4790",
   "metadata": {},
   "source": [
    "# 1. Aggregation"
   ]
  },
  {
   "cell_type": "markdown",
   "id": "38627531",
   "metadata": {},
   "source": [
    "aggregation is a technique to take a collection of values and output a single value"
   ]
  },
  {
   "cell_type": "markdown",
   "id": "cd9401df",
   "metadata": {},
   "source": [
    "# mean(average)"
   ]
  },
  {
   "cell_type": "code",
   "execution_count": 31,
   "id": "dad3e17f",
   "metadata": {},
   "outputs": [],
   "source": [
    "data=[2,3,4,5];"
   ]
  },
  {
   "cell_type": "code",
   "execution_count": 32,
   "id": "9a43031e",
   "metadata": {},
   "outputs": [
    {
     "data": {
      "text/plain": [
       "3.5"
      ]
     },
     "execution_count": 32,
     "metadata": {},
     "output_type": "execute_result"
    }
   ],
   "source": [
    "import numpy as np\n",
    "c=np.mean(data);\n",
    "c"
   ]
  },
  {
   "cell_type": "markdown",
   "id": "264981f6",
   "metadata": {},
   "source": [
    "# Median"
   ]
  },
  {
   "cell_type": "markdown",
   "id": "301792f5",
   "metadata": {},
   "source": [
    "steps:\n",
    "1. sort the values in the collection\n",
    "2. take the middle value in the sorted collection\n",
    "3. if there are 2 middle values then we take average of those 2 values"
   ]
  },
  {
   "cell_type": "code",
   "execution_count": 6,
   "id": "a8c1d805",
   "metadata": {},
   "outputs": [
    {
     "data": {
      "text/plain": [
       "4.0"
      ]
     },
     "execution_count": 6,
     "metadata": {},
     "output_type": "execute_result"
    }
   ],
   "source": [
    "dt=[2,3,4,5,6];\n",
    "c=np.median(dt);\n",
    "c"
   ]
  },
  {
   "cell_type": "code",
   "execution_count": 7,
   "id": "c7980912",
   "metadata": {},
   "outputs": [
    {
     "data": {
      "text/plain": [
       "3.5"
      ]
     },
     "execution_count": 7,
     "metadata": {},
     "output_type": "execute_result"
    }
   ],
   "source": [
    "dt=[2,3,4,5];\n",
    "c=np.median(dt);\n",
    "c"
   ]
  },
  {
   "cell_type": "markdown",
   "id": "27fb7482",
   "metadata": {},
   "source": [
    "# Mode"
   ]
  },
  {
   "cell_type": "markdown",
   "id": "a0324fa6",
   "metadata": {},
   "source": [
    "1.Mode is nothing but most commonly occuring value in the collection"
   ]
  },
  {
   "cell_type": "code",
   "execution_count": 16,
   "id": "36f142b9",
   "metadata": {},
   "outputs": [
    {
     "data": {
      "text/html": [
       "<div>\n",
       "<style scoped>\n",
       "    .dataframe tbody tr th:only-of-type {\n",
       "        vertical-align: middle;\n",
       "    }\n",
       "\n",
       "    .dataframe tbody tr th {\n",
       "        vertical-align: top;\n",
       "    }\n",
       "\n",
       "    .dataframe thead th {\n",
       "        text-align: right;\n",
       "    }\n",
       "</style>\n",
       "<table border=\"1\" class=\"dataframe\">\n",
       "  <thead>\n",
       "    <tr style=\"text-align: right;\">\n",
       "      <th></th>\n",
       "      <th>name</th>\n",
       "      <th>runs</th>\n",
       "    </tr>\n",
       "  </thead>\n",
       "  <tbody>\n",
       "    <tr>\n",
       "      <th>1</th>\n",
       "      <td>rohit</td>\n",
       "      <td>22</td>\n",
       "    </tr>\n",
       "    <tr>\n",
       "      <th>2</th>\n",
       "      <td>kohli</td>\n",
       "      <td>33</td>\n",
       "    </tr>\n",
       "    <tr>\n",
       "      <th>3</th>\n",
       "      <td>rohit</td>\n",
       "      <td>33</td>\n",
       "    </tr>\n",
       "  </tbody>\n",
       "</table>\n",
       "</div>"
      ],
      "text/plain": [
       "    name  runs\n",
       "1  rohit    22\n",
       "2  kohli    33\n",
       "3  rohit    33"
      ]
     },
     "execution_count": 16,
     "metadata": {},
     "output_type": "execute_result"
    }
   ],
   "source": [
    "import pandas as pd\n",
    "data2=pd.DataFrame({\"name\":[\"rohit\",\"kohli\",\"rohit\"],\"runs\":[22,33,33]},index=[1,2,3]);\n",
    "data2"
   ]
  },
  {
   "cell_type": "code",
   "execution_count": 11,
   "id": "fd9c3b7a",
   "metadata": {},
   "outputs": [
    {
     "data": {
      "text/plain": [
       "0    33\n",
       "dtype: int64"
      ]
     },
     "execution_count": 11,
     "metadata": {},
     "output_type": "execute_result"
    }
   ],
   "source": [
    "res=data2[\"runs\"].mode();\n",
    "res"
   ]
  },
  {
   "cell_type": "markdown",
   "id": "8e45ea79",
   "metadata": {},
   "source": [
    "# 2. Spread of Data"
   ]
  },
  {
   "cell_type": "markdown",
   "id": "999943d1",
   "metadata": {},
   "source": [
    "# Variance ( var() )"
   ]
  },
  {
   "cell_type": "markdown",
   "id": "11c2ce52",
   "metadata": {},
   "source": [
    "STEPS:\n",
    "\n",
    "1.Calculate the average of the data\n",
    "\n",
    "2.find the distance between each value and average value\n",
    "\n",
    "3.calculate the square of the distance\n",
    "\n",
    "4.take the sum of all squared distance\n",
    "\n",
    "5.divide the sum by the total number of values in the data"
   ]
  },
  {
   "cell_type": "code",
   "execution_count": 18,
   "id": "0e238798",
   "metadata": {},
   "outputs": [
    {
     "data": {
      "text/plain": [
       "3.44"
      ]
     },
     "execution_count": 18,
     "metadata": {},
     "output_type": "execute_result"
    }
   ],
   "source": [
    "data=[1,2,4,5,6];\n",
    "c=np.var(data);\n",
    "c"
   ]
  },
  {
   "cell_type": "markdown",
   "id": "acfec1ac",
   "metadata": {},
   "source": [
    "# Standard deviation ( std() )"
   ]
  },
  {
   "cell_type": "markdown",
   "id": "e3614edb",
   "metadata": {},
   "source": [
    "Square root of the variance"
   ]
  },
  {
   "cell_type": "code",
   "execution_count": 21,
   "id": "9b939c42",
   "metadata": {},
   "outputs": [
    {
     "data": {
      "text/plain": [
       "1.8547236990991407"
      ]
     },
     "execution_count": 21,
     "metadata": {},
     "output_type": "execute_result"
    }
   ],
   "source": [
    "std=np.sqrt(c);\n",
    "std"
   ]
  },
  {
   "cell_type": "code",
   "execution_count": 22,
   "id": "ac8f7f09",
   "metadata": {},
   "outputs": [
    {
     "data": {
      "text/plain": [
       "1.8547236990991407"
      ]
     },
     "execution_count": 22,
     "metadata": {},
     "output_type": "execute_result"
    }
   ],
   "source": [
    "std=np.std(data);\n",
    "std"
   ]
  },
  {
   "cell_type": "markdown",
   "id": "22d8d00b",
   "metadata": {},
   "source": [
    "# percentile"
   ]
  },
  {
   "cell_type": "markdown",
   "id": "61c74e19",
   "metadata": {},
   "source": [
    "percentile helps us to understand how many percentage of values are less than or equal to a particular value in the data"
   ]
  },
  {
   "cell_type": "markdown",
   "id": "b9c9b83b",
   "metadata": {},
   "source": [
    "L(p)=(n+1)p/100;\n",
    "\n",
    "where\n",
    "\n",
    "p=percentile that we want to calculate\n",
    "\n",
    "n=total number of values in the data"
   ]
  },
  {
   "cell_type": "markdown",
   "id": "c938820e",
   "metadata": {},
   "source": [
    "For example, an 18-year-old male who is six and a half feet tall is in the 99th percentile for his height. This means that of all the 18-year-old males, 99 percent have a height that is equal to or less than six and a half feet. An 18-year-old male who is only five and a half feet tall, on the other hand, is in the 16th percentile for his height, meaning only 16 percent of males his age are the same height or shorter."
   ]
  },
  {
   "cell_type": "code",
   "execution_count": 41,
   "id": "2bd3f021",
   "metadata": {},
   "outputs": [
    {
     "data": {
      "text/plain": [
       "3.5"
      ]
     },
     "execution_count": 41,
     "metadata": {},
     "output_type": "execute_result"
    }
   ],
   "source": [
    "c=np.percentile(data,50);\n",
    "c\n"
   ]
  },
  {
   "cell_type": "markdown",
   "id": "2edaf669",
   "metadata": {},
   "source": [
    "as we can see 70% of data is less than 4.8 in the given dataset"
   ]
  },
  {
   "cell_type": "markdown",
   "id": "7cdce763",
   "metadata": {},
   "source": [
    "# inferential statistics"
   ]
  },
  {
   "cell_type": "markdown",
   "id": "0fae40cf",
   "metadata": {},
   "source": [
    "NOTE: Depending on how the values in the data are distributed,the approach of Inferential statistics will be different"
   ]
  },
  {
   "cell_type": "markdown",
   "id": "cc7fe28f",
   "metadata": {},
   "source": [
    "Data Distribution:\n",
    "\n",
    "1. Normal distribution"
   ]
  },
  {
   "cell_type": "markdown",
   "id": "9c7cf231",
   "metadata": {},
   "source": [
    "# Normal Distribution"
   ]
  },
  {
   "cell_type": "markdown",
   "id": "562a2501",
   "metadata": {},
   "source": [
    "Normal Distribution:- It is a special type of density curve that is bell shaped.\n",
    "\n",
    "It describes the tendency of the data to cluster around central values."
   ]
  },
  {
   "cell_type": "markdown",
   "id": "2a4e09d1",
   "metadata": {},
   "source": [
    "Charcterstics:-\n",
    "\n",
    "Normal distribution is unimodel.\n",
    "\n",
    "the normal curve is symmetric about its mean.\n",
    "\n",
    "the Parameters u ans sigma completely represents the characterstic of normal distribution"
   ]
  },
  {
   "cell_type": "markdown",
   "id": "e924f908",
   "metadata": {},
   "source": [
    "# hypothesis testing"
   ]
  },
  {
   "cell_type": "markdown",
   "id": "68390b27",
   "metadata": {},
   "source": [
    "it is just testing of a particular claim"
   ]
  },
  {
   "cell_type": "markdown",
   "id": "7c26ecfc",
   "metadata": {},
   "source": [
    "OUTCOMES:-\n",
    "\n",
    "1. Accept the claim\n",
    "2. Reject the claim\n",
    "3. Fail to reject the claim"
   ]
  },
  {
   "cell_type": "markdown",
   "id": "01ffe745",
   "metadata": {},
   "source": [
    "Terminologies:--\n",
    "\n",
    "Critical value:- It is the boundary using which we decide what to do with the claim.\n",
    "\n",
    "Critical-region:- Region beyond the critical value is called critical region\n",
    "\n",
    "Null Hypothesis(H0)- claim\n",
    "\n",
    "Alternate Hypothesis(H1)- opposite of the claim"
   ]
  },
  {
   "cell_type": "markdown",
   "id": "3d275fa3",
   "metadata": {},
   "source": [
    "# types of Hypothesis testing"
   ]
  },
  {
   "cell_type": "markdown",
   "id": "fb5a9e00",
   "metadata": {},
   "source": [
    "Example1- Suppose the marks that sowma obtained in maths is normally distributed.sowmya claims that her average marks in all is 50\n",
    "\n",
    "Here null hypothesis- mean=50;\n",
    "\n",
    "Alternate Hypothesis- mean!=50;\n",
    "\n",
    "\n",
    "1.Two Tailed test:-\n",
    "    we have 2 critical values ,one on the left side of the               population mean and right side of the population mean\n",
    "    \n",
    "    \n",
    "Example2- Suppose the marks that sowma obtained in maths is normally distributed.sowmya claims that her average marks in all is atleast 50\n",
    "\n",
    "Here- Null hypothesis (or) claim =  mean>=50;\n",
    "\n",
    "Alternate hypothesis - mean<50;\n",
    "\n",
    "    \n",
    "2.Lower tailed test:-\n",
    "    we have one critical value and that too on the left side of the       population mean\n",
    "    \n",
    "    \n",
    "Example3 - Suppose the marks that sowma obtained in maths is normally distributed.sowmya claims that her average marks in all is atmost 50\n",
    "\n",
    "here null hypothesis- mean<=50;\n",
    "\n",
    "Alternate Hypothesis- mean>50;\n",
    "\n",
    "\n",
    "3.Upper Tailed test:-\n",
    "       we have one critical value and that too on the right side of          the population mean\n",
    "  \n"
   ]
  },
  {
   "cell_type": "markdown",
   "id": "983ef3b7",
   "metadata": {},
   "source": [
    "Types Of hypothesis Testing:-\n",
    "\n",
    "1. Two-tailed-test\n",
    "\n",
    "2. Lower tailed test\n",
    "\n",
    "3. Upper tailed test"
   ]
  },
  {
   "cell_type": "markdown",
   "id": "e8a36847",
   "metadata": {},
   "source": [
    "# perform Hypothesis testing"
   ]
  },
  {
   "cell_type": "markdown",
   "id": "f6b5d458",
   "metadata": {},
   "source": [
    "Example -  The Factory claims to dispense 80ml of fluid in their shampoo bottle. but the employee of the factory does not believe so.that is why he performed a test on 40 sample bottles and that test he found out the mean to be 78ml with a standard deviation of 2.5 with 95% confidence interval do the hypothesis testing"
   ]
  },
  {
   "cell_type": "markdown",
   "id": "7de52ead",
   "metadata": {},
   "source": [
    "In the Given Problem:-\n",
    "\n",
    "Here u=80---> population mean=80\n",
    "\n",
    "n=40\n",
    "\n",
    "x^=78ml--->x bar \n",
    "\n",
    "s=2.5--> standard deviation\n",
    "\n",
    "alpha=0.05----> here there is a 5%  of chance that emploee is wrong.\n",
    "\n",
    "\n",
    "\n",
    "\n",
    "\n",
    "\n",
    "\n",
    "\n",
    "\n",
    "\n",
    "\n",
    "\n",
    "\n"
   ]
  },
  {
   "cell_type": "markdown",
   "id": "fafdcb0e",
   "metadata": {},
   "source": [
    "# Z-Test Hypothesis Testing:-"
   ]
  },
  {
   "cell_type": "markdown",
   "id": "9049c847",
   "metadata": {},
   "source": [
    "# Approach"
   ]
  },
  {
   "cell_type": "markdown",
   "id": "63e58c45",
   "metadata": {},
   "source": [
    "Here null hypothesis: mean=80\n",
    "\n",
    "Alternate Hypothesis:- mean!=80\n",
    "\n",
    "Based on the Critical values,\n",
    "\n",
    "Here we perform  \"Two tailed test hypothesis test\"  because we are getting two critical values \n",
    "\n",
    "\n",
    "calculate the area of critical region = (alpha/2) ----->0.05/2=0.025;\n",
    "\n",
    "\n",
    "consider the critical region, w.r.t it calculate the area of non critical region\n",
    "\n",
    "Refer to the z-table to find out how many standard deviations the critical value is far way from Population mean\n",
    "\n",
    "Calculate the Z-score, which gives us an idea how many standard deviations is far away from sample mean to Population mean.\n",
    "\n",
    "After getting the Z-score i.e is -5.06, which is present in the critical region,So finally  \"We Reject the Claim\"\n"
   ]
  },
  {
   "cell_type": "markdown",
   "id": "2d9cddce",
   "metadata": {},
   "source": [
    "# T-test hypothesis testing"
   ]
  },
  {
   "cell_type": "markdown",
   "id": "49c18a4d",
   "metadata": {},
   "source": [
    "Here null hypothesis: mean=80\n",
    "\n",
    "Alternate Hypothesis:- mean!=80\n",
    "\n",
    "Based on the Critical values,\n",
    "\n",
    "Here we perform  \"Two tailed test hypothesis test\"  because we are getting two critical values \n",
    "\n",
    "\n",
    "calculate the area of critical region = (alpha/2) ----->0.05/2=0.025;\n",
    "\n",
    "\n",
    "consider the critical region, w.r.t it calculate the area of non critical region\n",
    "\n",
    "Calculate the degrees of freedom\n",
    "\n",
    "Refer to the T-table to find out how many standard deviations the critical value is far way from Population mean\n",
    "\n",
    "Calculate the T-score, which gives us an idea how many standard deviations is far away from sample mean to Population mean.\n",
    "\n",
    "Finally Conclude the test\n"
   ]
  },
  {
   "cell_type": "markdown",
   "id": "5a411660",
   "metadata": {},
   "source": [
    "# 3. Chi-Square test"
   ]
  },
  {
   "cell_type": "markdown",
   "id": "b1ddb603",
   "metadata": {},
   "source": [
    "It helps us to see if two columns are co-related or not"
   ]
  },
  {
   "cell_type": "markdown",
   "id": "50c0f8f4",
   "metadata": {},
   "source": [
    "It only works if the two columns are categorical"
   ]
  },
  {
   "cell_type": "markdown",
   "id": "727907db",
   "metadata": {},
   "source": [
    "steps:- \n",
    "    \n",
    "Formulate null and alternate hypothesis\n",
    "\n",
    "Calculate alpha value\n",
    "\n",
    "Create a table of observed values\n",
    "\n",
    "create a table of expected values # (sum of row * sum of column)/length of the table.\n",
    "\n",
    "calculate the degrees of freedom =(columns-1)*(rows-1)\n",
    "\n",
    "Calculate the tabular chi-square value\n",
    "\n",
    "finally find the calculated chi-square value-> sum( (oberved-expected)^2/expected) .\n",
    "\n",
    "NOTE:- if calculated chi-square value > tabular chi-square value we will reject the null hypothesis on the other hand you will not reject the null hypothesis."
   ]
  },
  {
   "cell_type": "markdown",
   "id": "bdaba4fa",
   "metadata": {},
   "source": [
    "# implementation of z-test using python"
   ]
  },
  {
   "cell_type": "markdown",
   "id": "3ea7f90d",
   "metadata": {},
   "source": [
    "# 1 . One sample test"
   ]
  },
  {
   "cell_type": "code",
   "execution_count": null,
   "id": "7c9d844c",
   "metadata": {},
   "outputs": [],
   "source": [
    "from statsmodels.stats.weightstats import ztest"
   ]
  },
  {
   "cell_type": "code",
   "execution_count": 11,
   "id": "ec951616",
   "metadata": {},
   "outputs": [
    {
     "data": {
      "text/plain": [
       "18.076763399458432"
      ]
     },
     "execution_count": 11,
     "metadata": {},
     "output_type": "execute_result"
    }
   ],
   "source": [
    "#The school is claiming that the avearge Iq of their students is 100 but the board does not believe so, they performed a test on 40 students and they found out IQ as follows--\n",
    "import numpy as np\n",
    "samples=[120,90,89,60,50,110,80,70,67,99,101,115,120,78,55,40,90,111,100,100,90,80,89,88,90,99,100,99,90,103,104,106,109,90,100,107,106,89,99,100]\n",
    "\n",
    "#to find sample mean\n",
    "m=np.mean(samples);\n",
    "m\n",
    "\n",
    "std=np.std(samples);\n",
    "std #18.076"
   ]
  },
  {
   "cell_type": "code",
   "execution_count": 28,
   "id": "ebf3ddc3",
   "metadata": {},
   "outputs": [
    {
     "data": {
      "text/plain": [
       "(-2.737857881062382, 0.006184079373856226)"
      ]
     },
     "execution_count": 28,
     "metadata": {},
     "output_type": "execute_result"
    }
   ],
   "source": [
    "res=ztest(samples,value=100,alternative=\"two-sided\");\n",
    "res"
   ]
  },
  {
   "cell_type": "markdown",
   "id": "5d4d9344",
   "metadata": {},
   "source": [
    "here -2.73785 is the Z-score\n",
    "\n",
    "0.00618 is the p-value\n",
    "\n",
    "if p-value > alpha then we fail to reject the claim\n",
    " \n",
    "if p-value<= alpha reject the claim"
   ]
  },
  {
   "cell_type": "markdown",
   "id": "4ce4ebc1",
   "metadata": {},
   "source": [
    "# 2. Two sample test"
   ]
  },
  {
   "cell_type": "markdown",
   "id": "64b70aea",
   "metadata": {},
   "source": [
    "two sample test is used to check if the difference in the mean of 2 collections is significant or not"
   ]
  },
  {
   "cell_type": "markdown",
   "id": "d125fc9e",
   "metadata": {},
   "source": [
    "Null hypothesis:- There is no significant difference in the mean of 2 collections\n",
    "\n",
    "Alternate Hypothesis:- there is a significant difference in the mean of 2 collections"
   ]
  },
  {
   "cell_type": "code",
   "execution_count": 24,
   "id": "a9f1635b",
   "metadata": {},
   "outputs": [],
   "source": [
    "import pandas as pd\n",
    "from statsmodels.stats.weightstats import ztest"
   ]
  },
  {
   "cell_type": "code",
   "execution_count": 25,
   "id": "c88936c1",
   "metadata": {
    "scrolled": true
   },
   "outputs": [
    {
     "data": {
      "text/html": [
       "<div>\n",
       "<style scoped>\n",
       "    .dataframe tbody tr th:only-of-type {\n",
       "        vertical-align: middle;\n",
       "    }\n",
       "\n",
       "    .dataframe tbody tr th {\n",
       "        vertical-align: top;\n",
       "    }\n",
       "\n",
       "    .dataframe thead th {\n",
       "        text-align: right;\n",
       "    }\n",
       "</style>\n",
       "<table border=\"1\" class=\"dataframe\">\n",
       "  <thead>\n",
       "    <tr style=\"text-align: right;\">\n",
       "      <th></th>\n",
       "      <th>id</th>\n",
       "      <th>sepal_len</th>\n",
       "      <th>sep_wid</th>\n",
       "      <th>pet_len</th>\n",
       "      <th>species</th>\n",
       "    </tr>\n",
       "  </thead>\n",
       "  <tbody>\n",
       "    <tr>\n",
       "      <th>0</th>\n",
       "      <td>1</td>\n",
       "      <td>1.8</td>\n",
       "      <td>2.0</td>\n",
       "      <td>1.4</td>\n",
       "      <td>chamanti</td>\n",
       "    </tr>\n",
       "    <tr>\n",
       "      <th>1</th>\n",
       "      <td>2</td>\n",
       "      <td>1.2</td>\n",
       "      <td>3.4</td>\n",
       "      <td>1.5</td>\n",
       "      <td>gulabi</td>\n",
       "    </tr>\n",
       "    <tr>\n",
       "      <th>2</th>\n",
       "      <td>3</td>\n",
       "      <td>2.3</td>\n",
       "      <td>5.6</td>\n",
       "      <td>4.2</td>\n",
       "      <td>gulabi</td>\n",
       "    </tr>\n",
       "    <tr>\n",
       "      <th>3</th>\n",
       "      <td>4</td>\n",
       "      <td>4.5</td>\n",
       "      <td>2.2</td>\n",
       "      <td>2.6</td>\n",
       "      <td>gulabi</td>\n",
       "    </tr>\n",
       "    <tr>\n",
       "      <th>4</th>\n",
       "      <td>5</td>\n",
       "      <td>5.5</td>\n",
       "      <td>1.9</td>\n",
       "      <td>4.5</td>\n",
       "      <td>chamanti</td>\n",
       "    </tr>\n",
       "    <tr>\n",
       "      <th>5</th>\n",
       "      <td>6</td>\n",
       "      <td>3.5</td>\n",
       "      <td>5.4</td>\n",
       "      <td>2.9</td>\n",
       "      <td>chamanti</td>\n",
       "    </tr>\n",
       "    <tr>\n",
       "      <th>6</th>\n",
       "      <td>7</td>\n",
       "      <td>2.2</td>\n",
       "      <td>4.8</td>\n",
       "      <td>5.5</td>\n",
       "      <td>gulabi</td>\n",
       "    </tr>\n",
       "    <tr>\n",
       "      <th>7</th>\n",
       "      <td>8</td>\n",
       "      <td>2.7</td>\n",
       "      <td>2.7</td>\n",
       "      <td>8.9</td>\n",
       "      <td>mandhara</td>\n",
       "    </tr>\n",
       "    <tr>\n",
       "      <th>8</th>\n",
       "      <td>9</td>\n",
       "      <td>3.9</td>\n",
       "      <td>4.2</td>\n",
       "      <td>3.5</td>\n",
       "      <td>mandhara</td>\n",
       "    </tr>\n",
       "    <tr>\n",
       "      <th>9</th>\n",
       "      <td>10</td>\n",
       "      <td>7.0</td>\n",
       "      <td>3.3</td>\n",
       "      <td>1.7</td>\n",
       "      <td>chamanti</td>\n",
       "    </tr>\n",
       "  </tbody>\n",
       "</table>\n",
       "</div>"
      ],
      "text/plain": [
       "   id  sepal_len  sep_wid  pet_len   species\n",
       "0   1        1.8      2.0      1.4  chamanti\n",
       "1   2        1.2      3.4      1.5    gulabi\n",
       "2   3        2.3      5.6      4.2    gulabi\n",
       "3   4        4.5      2.2      2.6    gulabi\n",
       "4   5        5.5      1.9      4.5  chamanti\n",
       "5   6        3.5      5.4      2.9  chamanti\n",
       "6   7        2.2      4.8      5.5    gulabi\n",
       "7   8        2.7      2.7      8.9  mandhara\n",
       "8   9        3.9      4.2      3.5  mandhara\n",
       "9  10        7.0      3.3      1.7  chamanti"
      ]
     },
     "execution_count": 25,
     "metadata": {},
     "output_type": "execute_result"
    }
   ],
   "source": [
    "df=pd.DataFrame({\"id\":[1,2,3,4,5,6,7,8,9,10],\"sepal_len\":[1.8,1.2,2.3,4.5,5.5,3.5,2.2,2.7,3.9,7.0],\"sep_wid\":[2.0,3.4,5.6,2.2,1.9,5.4,4.8,2.7,4.2,3.3],\"pet_len\":[1.4,1.5,4.2,2.6,4.5,2.9,5.5,8.9,3.5,1.7],\"species\":[\"chamanti\",\"gulabi\",\"gulabi\",\"gulabi\",\"chamanti\",\"chamanti\",\"gulabi\",\"mandhara\",\"mandhara\",\"chamanti\"]});\n",
    "df"
   ]
  },
  {
   "cell_type": "code",
   "execution_count": 48,
   "id": "82f13710",
   "metadata": {},
   "outputs": [
    {
     "data": {
      "text/html": [
       "<div>\n",
       "<style scoped>\n",
       "    .dataframe tbody tr th:only-of-type {\n",
       "        vertical-align: middle;\n",
       "    }\n",
       "\n",
       "    .dataframe tbody tr th {\n",
       "        vertical-align: top;\n",
       "    }\n",
       "\n",
       "    .dataframe thead th {\n",
       "        text-align: right;\n",
       "    }\n",
       "</style>\n",
       "<table border=\"1\" class=\"dataframe\">\n",
       "  <thead>\n",
       "    <tr style=\"text-align: right;\">\n",
       "      <th></th>\n",
       "      <th>id</th>\n",
       "      <th>sepal_len</th>\n",
       "      <th>sep_wid</th>\n",
       "      <th>pet_len</th>\n",
       "    </tr>\n",
       "  </thead>\n",
       "  <tbody>\n",
       "    <tr>\n",
       "      <th>count</th>\n",
       "      <td>10.00000</td>\n",
       "      <td>10.00000</td>\n",
       "      <td>10.000000</td>\n",
       "      <td>10.000000</td>\n",
       "    </tr>\n",
       "    <tr>\n",
       "      <th>mean</th>\n",
       "      <td>5.50000</td>\n",
       "      <td>3.46000</td>\n",
       "      <td>3.550000</td>\n",
       "      <td>3.670000</td>\n",
       "    </tr>\n",
       "    <tr>\n",
       "      <th>std</th>\n",
       "      <td>3.02765</td>\n",
       "      <td>1.80567</td>\n",
       "      <td>1.389044</td>\n",
       "      <td>2.289614</td>\n",
       "    </tr>\n",
       "    <tr>\n",
       "      <th>min</th>\n",
       "      <td>1.00000</td>\n",
       "      <td>1.20000</td>\n",
       "      <td>1.900000</td>\n",
       "      <td>1.400000</td>\n",
       "    </tr>\n",
       "    <tr>\n",
       "      <th>25%</th>\n",
       "      <td>3.25000</td>\n",
       "      <td>2.22500</td>\n",
       "      <td>2.325000</td>\n",
       "      <td>1.925000</td>\n",
       "    </tr>\n",
       "    <tr>\n",
       "      <th>50%</th>\n",
       "      <td>5.50000</td>\n",
       "      <td>3.10000</td>\n",
       "      <td>3.350000</td>\n",
       "      <td>3.200000</td>\n",
       "    </tr>\n",
       "    <tr>\n",
       "      <th>75%</th>\n",
       "      <td>7.75000</td>\n",
       "      <td>4.35000</td>\n",
       "      <td>4.650000</td>\n",
       "      <td>4.425000</td>\n",
       "    </tr>\n",
       "    <tr>\n",
       "      <th>max</th>\n",
       "      <td>10.00000</td>\n",
       "      <td>7.00000</td>\n",
       "      <td>5.600000</td>\n",
       "      <td>8.900000</td>\n",
       "    </tr>\n",
       "  </tbody>\n",
       "</table>\n",
       "</div>"
      ],
      "text/plain": [
       "             id  sepal_len    sep_wid    pet_len\n",
       "count  10.00000   10.00000  10.000000  10.000000\n",
       "mean    5.50000    3.46000   3.550000   3.670000\n",
       "std     3.02765    1.80567   1.389044   2.289614\n",
       "min     1.00000    1.20000   1.900000   1.400000\n",
       "25%     3.25000    2.22500   2.325000   1.925000\n",
       "50%     5.50000    3.10000   3.350000   3.200000\n",
       "75%     7.75000    4.35000   4.650000   4.425000\n",
       "max    10.00000    7.00000   5.600000   8.900000"
      ]
     },
     "execution_count": 48,
     "metadata": {},
     "output_type": "execute_result"
    }
   ],
   "source": [
    "df.describe()"
   ]
  },
  {
   "cell_type": "code",
   "execution_count": 27,
   "id": "9f1c79b4",
   "metadata": {},
   "outputs": [
    {
     "data": {
      "text/plain": [
       "(-0.12492906206096292, 0.9005797104081293)"
      ]
     },
     "execution_count": 27,
     "metadata": {},
     "output_type": "execute_result"
    }
   ],
   "source": [
    "res=ztest(df[\"sepal_len\"],df[\"sep_wid\"])\n",
    "res"
   ]
  },
  {
   "cell_type": "code",
   "execution_count": 22,
   "id": "21594aa5",
   "metadata": {},
   "outputs": [
    {
     "name": "stdout",
     "output_type": "stream",
     "text": [
      "Fail to reject the null hypothesis\n"
     ]
    }
   ],
   "source": [
    "if res[1]<=0.05:\n",
    "    print(\"REJECT THE NULL HYPOTHESIS\");\n",
    "else:\n",
    "    print(\"Fail to reject the null hypothesis\");\n",
    "\n",
    "    "
   ]
  },
  {
   "cell_type": "code",
   "execution_count": 66,
   "id": "e1357463",
   "metadata": {},
   "outputs": [
    {
     "name": "stdout",
     "output_type": "stream",
     "text": [
      "19\n",
      "19\n",
      "67\n"
     ]
    }
   ],
   "source": [
    "s=lambda x,y,z:x+y+z;\n",
    "print(s(y=2,x=9,z=8)) # this is keyword arguments.\n",
    "\n",
    "print(s(2,9,8)) #here x=2,y=9,z=8;\n",
    "#this is positional arguments...\n",
    "\n",
    "s2=lambda x,y:max(x,y);\n",
    "print(s2(20,67))"
   ]
  },
  {
   "cell_type": "code",
   "execution_count": null,
   "id": "71955f44",
   "metadata": {},
   "outputs": [],
   "source": []
  },
  {
   "cell_type": "code",
   "execution_count": null,
   "id": "f0014d8c",
   "metadata": {},
   "outputs": [],
   "source": []
  }
 ],
 "metadata": {
  "kernelspec": {
   "display_name": "Python 3 (ipykernel)",
   "language": "python",
   "name": "python3"
  },
  "language_info": {
   "codemirror_mode": {
    "name": "ipython",
    "version": 3
   },
   "file_extension": ".py",
   "mimetype": "text/x-python",
   "name": "python",
   "nbconvert_exporter": "python",
   "pygments_lexer": "ipython3",
   "version": "3.9.7"
  }
 },
 "nbformat": 4,
 "nbformat_minor": 5
}
